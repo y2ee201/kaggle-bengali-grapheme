{
 "cells": [
  {
   "cell_type": "code",
   "execution_count": 1,
   "metadata": {},
   "outputs": [],
   "source": [
    "import pandas as pd\n",
    "import numpy as np\n",
    "import seaborn as sns\n",
    "import time\n",
    "import matplotlib.pyplot as plt\n",
    "import gc\n",
    "import concurrent.futures\n",
    "from PIL import Image, ImageChops\n",
    "from tqdm import tqdm\n",
    "import cv2"
   ]
  },
  {
   "cell_type": "code",
   "execution_count": 2,
   "metadata": {},
   "outputs": [],
   "source": [
    "# !pip install torchvision --upgrade"
   ]
  },
  {
   "cell_type": "code",
   "execution_count": 3,
   "metadata": {},
   "outputs": [],
   "source": [
    "#!pip install fastparquet\n",
    "#!pip install python-snappy\n",
    "#!pip install pyarrow "
   ]
  },
  {
   "cell_type": "code",
   "execution_count": 2,
   "metadata": {},
   "outputs": [
    {
     "name": "stdout",
     "output_type": "stream",
     "text": [
      "<class 'pandas.core.frame.DataFrame'>\n",
      "RangeIndex: 200840 entries, 0 to 200839\n",
      "Data columns (total 5 columns):\n",
      "image_id               200840 non-null object\n",
      "grapheme_root          200840 non-null int64\n",
      "vowel_diacritic        200840 non-null int64\n",
      "consonant_diacritic    200840 non-null int64\n",
      "grapheme               200840 non-null object\n",
      "dtypes: int64(3), object(2)\n",
      "memory usage: 7.7+ MB\n"
     ]
    }
   ],
   "source": [
    "training_labels = pd.read_csv('./train.csv')\n",
    "training_labels.info()"
   ]
  },
  {
   "cell_type": "code",
   "execution_count": 3,
   "metadata": {},
   "outputs": [
    {
     "data": {
      "text/plain": [
       "(168, 11, 7, 186)"
      ]
     },
     "execution_count": 3,
     "metadata": {},
     "output_type": "execute_result"
    }
   ],
   "source": [
    "training_labels.grapheme_root.nunique(), training_labels.vowel_diacritic.nunique(),\\\n",
    "training_labels.consonant_diacritic.nunique(), 168+11+7"
   ]
  },
  {
   "cell_type": "code",
   "execution_count": 4,
   "metadata": {},
   "outputs": [
    {
     "data": {
      "text/plain": [
       "72     5736\n",
       "64     5596\n",
       "13     5420\n",
       "107    5321\n",
       "23     5149\n",
       "       ... \n",
       "130     144\n",
       "158     143\n",
       "102     141\n",
       "33      136\n",
       "73      130\n",
       "Name: grapheme_root, Length: 168, dtype: int64"
      ]
     },
     "execution_count": 4,
     "metadata": {},
     "output_type": "execute_result"
    }
   ],
   "source": [
    "training_labels.grapheme_root.value_counts()"
   ]
  },
  {
   "cell_type": "code",
   "execution_count": 5,
   "metadata": {},
   "outputs": [
    {
     "data": {
      "text/plain": [
       "0     41508\n",
       "1     36886\n",
       "7     28723\n",
       "2     25967\n",
       "4     18848\n",
       "3     16152\n",
       "9     16032\n",
       "5      5297\n",
       "6      4336\n",
       "10     3563\n",
       "8      3528\n",
       "Name: vowel_diacritic, dtype: int64"
      ]
     },
     "execution_count": 5,
     "metadata": {},
     "output_type": "execute_result"
    }
   ],
   "source": [
    "training_labels.vowel_diacritic.value_counts()"
   ]
  },
  {
   "cell_type": "code",
   "execution_count": 6,
   "metadata": {},
   "outputs": [
    {
     "data": {
      "text/plain": [
       "0    125278\n",
       "2     23465\n",
       "5     21397\n",
       "4     21270\n",
       "1      7424\n",
       "6      1387\n",
       "3       619\n",
       "Name: consonant_diacritic, dtype: int64"
      ]
     },
     "execution_count": 6,
     "metadata": {},
     "output_type": "execute_result"
    }
   ],
   "source": [
    "training_labels.consonant_diacritic.value_counts()"
   ]
  },
  {
   "cell_type": "code",
   "execution_count": 7,
   "metadata": {},
   "outputs": [
    {
     "name": "stdout",
     "output_type": "stream",
     "text": [
      "<class 'pandas.core.frame.DataFrame'>\n",
      "RangeIndex: 200840 entries, 0 to 200839\n",
      "Columns: 32333 entries, image_id to 32331\n",
      "dtypes: object(1), uint8(32332)\n",
      "memory usage: 6.0+ GB\n",
      "Wall time: 16min 17s\n"
     ]
    }
   ],
   "source": [
    "%%time\n",
    "training_data = pd.read_parquet('./train_image_data_0.parquet')\n",
    "training_data = pd.concat([training_data, \n",
    "                           pd.read_parquet('./train_image_data_1.parquet')], ignore_index=True)\n",
    "training_data = pd.concat([training_data, \n",
    "                           pd.read_parquet('./train_image_data_2.parquet')], ignore_index=True)\n",
    "training_data = pd.concat([training_data, \n",
    "                           pd.read_parquet('./train_image_data_3.parquet')], ignore_index=True)\n",
    "gc.collect()\n",
    "training_data.info()"
   ]
  },
  {
   "cell_type": "code",
   "execution_count": 8,
   "metadata": {},
   "outputs": [
    {
     "name": "stdout",
     "output_type": "stream",
     "text": [
      "Wall time: 0 ns\n"
     ]
    }
   ],
   "source": [
    "%%time\n",
    "size = 128\n",
    "\n",
    "def save_image(row):\n",
    "    test_image = np.reshape(row[1:], (137, 236))\n",
    "    test_image = test_image.astype(np.int)\n",
    "    test_image = Image.fromarray(test_image).convert('RGB')\n",
    "    test_image = test_image.resize((size, size))\n",
    "    test_image.save('./train_images/'+row[0]+'.jpg')"
   ]
  },
  {
   "cell_type": "code",
   "execution_count": 10,
   "metadata": {},
   "outputs": [
    {
     "name": "stderr",
     "output_type": "stream",
     "text": [
      "100%|████████████████████████████████████████████████████████████████████████| 200840/200840 [1:45:49<00:00, 31.63it/s]\n"
     ]
    }
   ],
   "source": [
    "for i in tqdm(range(training_data.shape[0])):\n",
    "    row = training_data.iloc[i].values\n",
    "    save_image(row)"
   ]
  },
  {
   "cell_type": "code",
   "execution_count": null,
   "metadata": {},
   "outputs": [],
   "source": [
    "import cv2\n",
    "import numpy as np\n",
    "im = cv2.imread('img1.jpg',0)\n",
    "ret,thresh1 = cv2.threshold(im,127,255,cv2.THRESH_BINARY)\n",
    "_,contours, hierarchy = cv2.findContours(thresh1,cv2.RETR_TREE,cv2.CHAIN_APPROX_SIMPLE)\n",
    "for cnt in contours:\n",
    "\tx,y,w,h = cv2.boundingRect(cnt)\n",
    "\t#bound the images\n",
    "\tcv2.rectangle(im,(x,y),(x+w,y+h),(0,255,0),3)\n",
    "i=0\n",
    "for cnt in contours:\n",
    "\tx,y,w,h = cv2.boundingRect(cnt)\n",
    "\t#following if statement is to ignore the noises and save the images which are of normal size(character)\n",
    "\t#In order to write more general code, than specifying the dimensions as 100,\n",
    "\t# number of characters should be divided by word dimension\n",
    "\tif w>100 and h>100:\n",
    "\t\t#save individual images\n",
    "\t\tcv2.imwrite(str(i)+\".jpg\",thresh1[y:y+h,x:x+w])\n",
    "\t\ti=i+1\n",
    "cv2.namedWindow('BindingBox', cv2.WINDOW_NORMAL)\n",
    "cv2.imshow('BindingBox',im)"
   ]
  },
  {
   "cell_type": "code",
   "execution_count": 22,
   "metadata": {},
   "outputs": [],
   "source": [
    "size = 128\n",
    "HEIGHT = 137\n",
    "WIDTH = 236\n",
    "\n",
    "def bbox(img):\n",
    "    rows = np.any(img, axis=1)\n",
    "    cols = np.any(img, axis=0)\n",
    "    rmin, rmax = np.where(rows)[0][[0, -1]]\n",
    "    cmin, cmax = np.where(cols)[0][[0, -1]]\n",
    "    return rmin, rmax, cmin, cmax\n",
    "\n",
    "def crop_resize(img0, size=size, pad=16):\n",
    "    #crop a box around pixels large than the threshold \n",
    "    #some images contain line at the sides\n",
    "    ymin,ymax,xmin,xmax = bbox(img0[5:-5,5:-5] > 80)\n",
    "    #cropping may cut too much, so we need to add it back\n",
    "    xmin = xmin - 13 if (xmin > 13) else 0\n",
    "    ymin = ymin - 10 if (ymin > 10) else 0\n",
    "    xmax = xmax + 13 if (xmax < WIDTH - 13) else WIDTH\n",
    "    ymax = ymax + 10 if (ymax < HEIGHT - 10) else HEIGHT\n",
    "    img = img0[ymin:ymax,xmin:xmax]\n",
    "    #remove lo intensity pixels as noise\n",
    "    img[img < 28] = 0\n",
    "    lx, ly = xmax-xmin,ymax-ymin\n",
    "    l = max(lx,ly) + pad\n",
    "    #make sure that the aspect ratio is kept in rescaling\n",
    "    img = np.pad(img, [((l-ly)//2,), ((l-lx)//2,)], mode='constant')\n",
    "    return cv2.resize(img,(size,size))"
   ]
  },
  {
   "cell_type": "code",
   "execution_count": 52,
   "metadata": {},
   "outputs": [],
   "source": [
    "def trim(im):\n",
    "    bg = Image.new(im.mode, im.size, im.getpixel((0,0)))\n",
    "    diff = ImageChops.difference(im, bg)\n",
    "    diff = ImageChops.add(diff, diff, 2.0, -100)\n",
    "    #Bounding box given as a 4-tuple defining the left, upper, right, and lower pixel coordinates.\n",
    "    #If the image is completely empty, this method returns None.\n",
    "    bbox = diff.getbbox()\n",
    "    if bbox:\n",
    "        return im.crop(bbox)"
   ]
  },
  {
   "cell_type": "code",
   "execution_count": 74,
   "metadata": {},
   "outputs": [],
   "source": [
    "import cv2\n",
    "\n",
    "def crop_im(im, padding=0.1):\n",
    "    \"\"\"\n",
    "    Takes cv2 image, im, and padding % as a float, padding,\n",
    "    and returns cropped image.\n",
    "    \"\"\"\n",
    "    bw = cv2.cvtColor(im, cv2.COLOR_BGR2GRAY)\n",
    "    rows, cols = bw.shape\n",
    "    non_empty_columns = np.where(bw.min(axis=0)<255)[0]\n",
    "    non_empty_rows = np.where(bw.min(axis=1)<255)[0]\n",
    "    cropBox = (min(non_empty_rows) * (1 - padding),\n",
    "                min(max(non_empty_rows) * (1 + padding), rows),\n",
    "                min(non_empty_columns) * (1 - padding),\n",
    "                min(max(non_empty_columns) * (1 + padding), cols))\n",
    "    cropped = im[cropBox[0]:cropBox[1]+1, cropBox[2]:cropBox[3]+1 , :]\n",
    "\n",
    "    return cropped"
   ]
  },
  {
   "cell_type": "code",
   "execution_count": 123,
   "metadata": {},
   "outputs": [
    {
     "ename": "TypeError",
     "evalue": "Image data of dtype object cannot be converted to float",
     "output_type": "error",
     "traceback": [
      "\u001b[1;31m---------------------------------------------------------------------------\u001b[0m",
      "\u001b[1;31mTypeError\u001b[0m                                 Traceback (most recent call last)",
      "\u001b[1;32m<ipython-input-123-5780e696d0f5>\u001b[0m in \u001b[0;36m<module>\u001b[1;34m\u001b[0m\n\u001b[0;32m     14\u001b[0m \u001b[1;33m\u001b[0m\u001b[0m\n\u001b[0;32m     15\u001b[0m \u001b[0mplt\u001b[0m\u001b[1;33m.\u001b[0m\u001b[0msubplot\u001b[0m\u001b[1;33m(\u001b[0m\u001b[1;36m1\u001b[0m\u001b[1;33m,\u001b[0m\u001b[1;36m2\u001b[0m\u001b[1;33m,\u001b[0m\u001b[1;36m2\u001b[0m\u001b[1;33m)\u001b[0m\u001b[1;33m\u001b[0m\u001b[0m\n\u001b[1;32m---> 16\u001b[1;33m \u001b[0mplt\u001b[0m\u001b[1;33m.\u001b[0m\u001b[0mimshow\u001b[0m\u001b[1;33m(\u001b[0m\u001b[0mtest_image_crop\u001b[0m\u001b[1;33m)\u001b[0m\u001b[1;33m\u001b[0m\u001b[0m\n\u001b[0m",
      "\u001b[1;32mc:\\users\\y2ee2\\anaconda3\\envs\\devenv\\lib\\site-packages\\matplotlib\\pyplot.py\u001b[0m in \u001b[0;36mimshow\u001b[1;34m(X, cmap, norm, aspect, interpolation, alpha, vmin, vmax, origin, extent, shape, filternorm, filterrad, imlim, resample, url, data, **kwargs)\u001b[0m\n\u001b[0;32m   2681\u001b[0m         \u001b[0mfilternorm\u001b[0m\u001b[1;33m=\u001b[0m\u001b[0mfilternorm\u001b[0m\u001b[1;33m,\u001b[0m \u001b[0mfilterrad\u001b[0m\u001b[1;33m=\u001b[0m\u001b[0mfilterrad\u001b[0m\u001b[1;33m,\u001b[0m \u001b[0mimlim\u001b[0m\u001b[1;33m=\u001b[0m\u001b[0mimlim\u001b[0m\u001b[1;33m,\u001b[0m\u001b[1;33m\u001b[0m\u001b[0m\n\u001b[0;32m   2682\u001b[0m         resample=resample, url=url, **({\"data\": data} if data is not\n\u001b[1;32m-> 2683\u001b[1;33m         None else {}), **kwargs)\n\u001b[0m\u001b[0;32m   2684\u001b[0m     \u001b[0msci\u001b[0m\u001b[1;33m(\u001b[0m\u001b[0m__ret\u001b[0m\u001b[1;33m)\u001b[0m\u001b[1;33m\u001b[0m\u001b[0m\n\u001b[0;32m   2685\u001b[0m     \u001b[1;32mreturn\u001b[0m \u001b[0m__ret\u001b[0m\u001b[1;33m\u001b[0m\u001b[0m\n",
      "\u001b[1;32mc:\\users\\y2ee2\\anaconda3\\envs\\devenv\\lib\\site-packages\\matplotlib\\__init__.py\u001b[0m in \u001b[0;36minner\u001b[1;34m(ax, data, *args, **kwargs)\u001b[0m\n\u001b[0;32m   1599\u001b[0m     \u001b[1;32mdef\u001b[0m \u001b[0minner\u001b[0m\u001b[1;33m(\u001b[0m\u001b[0max\u001b[0m\u001b[1;33m,\u001b[0m \u001b[1;33m*\u001b[0m\u001b[0margs\u001b[0m\u001b[1;33m,\u001b[0m \u001b[0mdata\u001b[0m\u001b[1;33m=\u001b[0m\u001b[1;32mNone\u001b[0m\u001b[1;33m,\u001b[0m \u001b[1;33m**\u001b[0m\u001b[0mkwargs\u001b[0m\u001b[1;33m)\u001b[0m\u001b[1;33m:\u001b[0m\u001b[1;33m\u001b[0m\u001b[0m\n\u001b[0;32m   1600\u001b[0m         \u001b[1;32mif\u001b[0m \u001b[0mdata\u001b[0m \u001b[1;32mis\u001b[0m \u001b[1;32mNone\u001b[0m\u001b[1;33m:\u001b[0m\u001b[1;33m\u001b[0m\u001b[0m\n\u001b[1;32m-> 1601\u001b[1;33m             \u001b[1;32mreturn\u001b[0m \u001b[0mfunc\u001b[0m\u001b[1;33m(\u001b[0m\u001b[0max\u001b[0m\u001b[1;33m,\u001b[0m \u001b[1;33m*\u001b[0m\u001b[0mmap\u001b[0m\u001b[1;33m(\u001b[0m\u001b[0msanitize_sequence\u001b[0m\u001b[1;33m,\u001b[0m \u001b[0margs\u001b[0m\u001b[1;33m)\u001b[0m\u001b[1;33m,\u001b[0m \u001b[1;33m**\u001b[0m\u001b[0mkwargs\u001b[0m\u001b[1;33m)\u001b[0m\u001b[1;33m\u001b[0m\u001b[0m\n\u001b[0m\u001b[0;32m   1602\u001b[0m \u001b[1;33m\u001b[0m\u001b[0m\n\u001b[0;32m   1603\u001b[0m         \u001b[0mbound\u001b[0m \u001b[1;33m=\u001b[0m \u001b[0mnew_sig\u001b[0m\u001b[1;33m.\u001b[0m\u001b[0mbind\u001b[0m\u001b[1;33m(\u001b[0m\u001b[0max\u001b[0m\u001b[1;33m,\u001b[0m \u001b[1;33m*\u001b[0m\u001b[0margs\u001b[0m\u001b[1;33m,\u001b[0m \u001b[1;33m**\u001b[0m\u001b[0mkwargs\u001b[0m\u001b[1;33m)\u001b[0m\u001b[1;33m\u001b[0m\u001b[0m\n",
      "\u001b[1;32mc:\\users\\y2ee2\\anaconda3\\envs\\devenv\\lib\\site-packages\\matplotlib\\cbook\\deprecation.py\u001b[0m in \u001b[0;36mwrapper\u001b[1;34m(*args, **kwargs)\u001b[0m\n\u001b[0;32m    367\u001b[0m                 \u001b[1;34mf\"%(removal)s.  If any parameter follows {name!r}, they \"\u001b[0m\u001b[1;33m\u001b[0m\u001b[0m\n\u001b[0;32m    368\u001b[0m                 f\"should be pass as keyword, not positionally.\")\n\u001b[1;32m--> 369\u001b[1;33m         \u001b[1;32mreturn\u001b[0m \u001b[0mfunc\u001b[0m\u001b[1;33m(\u001b[0m\u001b[1;33m*\u001b[0m\u001b[0margs\u001b[0m\u001b[1;33m,\u001b[0m \u001b[1;33m**\u001b[0m\u001b[0mkwargs\u001b[0m\u001b[1;33m)\u001b[0m\u001b[1;33m\u001b[0m\u001b[0m\n\u001b[0m\u001b[0;32m    370\u001b[0m \u001b[1;33m\u001b[0m\u001b[0m\n\u001b[0;32m    371\u001b[0m     \u001b[1;32mreturn\u001b[0m \u001b[0mwrapper\u001b[0m\u001b[1;33m\u001b[0m\u001b[0m\n",
      "\u001b[1;32mc:\\users\\y2ee2\\anaconda3\\envs\\devenv\\lib\\site-packages\\matplotlib\\cbook\\deprecation.py\u001b[0m in \u001b[0;36mwrapper\u001b[1;34m(*args, **kwargs)\u001b[0m\n\u001b[0;32m    367\u001b[0m                 \u001b[1;34mf\"%(removal)s.  If any parameter follows {name!r}, they \"\u001b[0m\u001b[1;33m\u001b[0m\u001b[0m\n\u001b[0;32m    368\u001b[0m                 f\"should be pass as keyword, not positionally.\")\n\u001b[1;32m--> 369\u001b[1;33m         \u001b[1;32mreturn\u001b[0m \u001b[0mfunc\u001b[0m\u001b[1;33m(\u001b[0m\u001b[1;33m*\u001b[0m\u001b[0margs\u001b[0m\u001b[1;33m,\u001b[0m \u001b[1;33m**\u001b[0m\u001b[0mkwargs\u001b[0m\u001b[1;33m)\u001b[0m\u001b[1;33m\u001b[0m\u001b[0m\n\u001b[0m\u001b[0;32m    370\u001b[0m \u001b[1;33m\u001b[0m\u001b[0m\n\u001b[0;32m    371\u001b[0m     \u001b[1;32mreturn\u001b[0m \u001b[0mwrapper\u001b[0m\u001b[1;33m\u001b[0m\u001b[0m\n",
      "\u001b[1;32mc:\\users\\y2ee2\\anaconda3\\envs\\devenv\\lib\\site-packages\\matplotlib\\axes\\_axes.py\u001b[0m in \u001b[0;36mimshow\u001b[1;34m(self, X, cmap, norm, aspect, interpolation, alpha, vmin, vmax, origin, extent, shape, filternorm, filterrad, imlim, resample, url, **kwargs)\u001b[0m\n\u001b[0;32m   5669\u001b[0m                               resample=resample, **kwargs)\n\u001b[0;32m   5670\u001b[0m \u001b[1;33m\u001b[0m\u001b[0m\n\u001b[1;32m-> 5671\u001b[1;33m         \u001b[0mim\u001b[0m\u001b[1;33m.\u001b[0m\u001b[0mset_data\u001b[0m\u001b[1;33m(\u001b[0m\u001b[0mX\u001b[0m\u001b[1;33m)\u001b[0m\u001b[1;33m\u001b[0m\u001b[0m\n\u001b[0m\u001b[0;32m   5672\u001b[0m         \u001b[0mim\u001b[0m\u001b[1;33m.\u001b[0m\u001b[0mset_alpha\u001b[0m\u001b[1;33m(\u001b[0m\u001b[0malpha\u001b[0m\u001b[1;33m)\u001b[0m\u001b[1;33m\u001b[0m\u001b[0m\n\u001b[0;32m   5673\u001b[0m         \u001b[1;32mif\u001b[0m \u001b[0mim\u001b[0m\u001b[1;33m.\u001b[0m\u001b[0mget_clip_path\u001b[0m\u001b[1;33m(\u001b[0m\u001b[1;33m)\u001b[0m \u001b[1;32mis\u001b[0m \u001b[1;32mNone\u001b[0m\u001b[1;33m:\u001b[0m\u001b[1;33m\u001b[0m\u001b[0m\n",
      "\u001b[1;32mc:\\users\\y2ee2\\anaconda3\\envs\\devenv\\lib\\site-packages\\matplotlib\\image.py\u001b[0m in \u001b[0;36mset_data\u001b[1;34m(self, A)\u001b[0m\n\u001b[0;32m    683\u001b[0m                 not np.can_cast(self._A.dtype, float, \"same_kind\")):\n\u001b[0;32m    684\u001b[0m             raise TypeError(\"Image data of dtype {} cannot be converted to \"\n\u001b[1;32m--> 685\u001b[1;33m                             \"float\".format(self._A.dtype))\n\u001b[0m\u001b[0;32m    686\u001b[0m \u001b[1;33m\u001b[0m\u001b[0m\n\u001b[0;32m    687\u001b[0m         if not (self._A.ndim == 2\n",
      "\u001b[1;31mTypeError\u001b[0m: Image data of dtype object cannot be converted to float"
     ]
    },
    {
     "data": {
      "image/png": "[encoded data removed]",
      "text/plain": [
       "<Figure size 432x288 with 2 Axes>"
      ]
     },
     "metadata": {
      "needs_background": "light"
     },
     "output_type": "display_data"
    }
   ],
   "source": [
    "test_image = training_data.iloc[i+8].values[1:]\n",
    "test_image = np.reshape(test_image, (137, 236))\n",
    "test_image = 255 - test_image\n",
    "test_image = Image.fromarray(test_image.astype(np.uint8))\n",
    "\n",
    "plt.subplot(1,2,1)\n",
    "plt.imshow(test_image)\n",
    "\n",
    "# test_image = training_data.iloc[i+8].values[1:]\n",
    "# test_image = np.reshape(test_image, (137, 236))\n",
    "# test_image = 255 - test_image\n",
    "# test_image = cv2.resize(test_image, (128, 128))\n",
    "test_image_crop = save_image_trimmed(training_data.iloc[i+8].values)\n",
    "\n",
    "plt.subplot(1,2,2)\n",
    "plt.imshow(test_image_crop)"
   ]
  },
  {
   "cell_type": "code",
   "execution_count": 42,
   "metadata": {},
   "outputs": [
    {
     "data": {
      "text/plain": [
       "NoneType"
      ]
     },
     "execution_count": 42,
     "metadata": {},
     "output_type": "execute_result"
    }
   ],
   "source": [
    "test = trim(test_image)\n",
    "type(test)"
   ]
  },
  {
   "cell_type": "code",
   "execution_count": 23,
   "metadata": {},
   "outputs": [
    {
     "data": {
      "text/plain": [
       "<matplotlib.image.AxesImage at 0x236c3f30e80>"
      ]
     },
     "execution_count": 23,
     "metadata": {},
     "output_type": "execute_result"
    },
    {
     "data": {
      "image/png": "[encoded data removed]",
      "text/plain": [
       "<Figure size 432x288 with 2 Axes>"
      ]
     },
     "metadata": {
      "needs_background": "light"
     },
     "output_type": "display_data"
    }
   ],
   "source": [
    "test_image = training_data.head(1).values[0][1:]\n",
    "test_image = np.reshape(test_image, (137, 236))\n",
    "test_image = test_image.astype(np.int)\n",
    "\n",
    "plt.subplot(1,2,1)\n",
    "plt.imshow(test_image)\n",
    "\n",
    "test_image = 255 - training_data.head(1).values[0][1:]\n",
    "test_image = np.reshape(test_image, (137, 236))\n",
    "test_image = test_image.astype(np.uint8)\n",
    "\n",
    "plt.subplot(1,2,2)\n",
    "plt.imshow(crop_resize(test_image))"
   ]
  },
  {
   "cell_type": "code",
   "execution_count": 26,
   "metadata": {},
   "outputs": [
    {
     "data": {
      "text/plain": [
       "dtype('int32')"
      ]
     },
     "execution_count": 26,
     "metadata": {},
     "output_type": "execute_result"
    }
   ],
   "source": [
    "test = crop_resize(test_image)\n",
    "test.dtype"
   ]
  },
  {
   "cell_type": "code",
   "execution_count": 28,
   "metadata": {},
   "outputs": [
    {
     "data": {
      "text/plain": [
       "True"
      ]
     },
     "execution_count": 28,
     "metadata": {},
     "output_type": "execute_result"
    }
   ],
   "source": [
    "cv2.imwrite('./test_image.jpg', test)"
   ]
  },
  {
   "cell_type": "code",
   "execution_count": 143,
   "metadata": {},
   "outputs": [
    {
     "name": "stdout",
     "output_type": "stream",
     "text": [
      "Wall time: 0 ns\n"
     ]
    }
   ],
   "source": [
    "%%time\n",
    "size = 128\n",
    "\n",
    "def save_image(row):\n",
    "    test_image = np.reshape(row[1:], (137, 236))\n",
    "    test_image = test_image.astype(np.int)\n",
    "    test_image = Image.fromarray(test_image).convert('RGB')\n",
    "    test_image = test_image.resize((size, size))\n",
    "    test_image.save('./train_images/'+row[0]+'.jpg')\n",
    "\n",
    "'''with concurrent.futures.ThreadPoolExecutor(max_workers=5) as executor:\n",
    "    future_to_image = {executor.submit(save_image, row): row \n",
    "                       for row in training_data.values}\n",
    "    for future in concurrent.futures.as_completed(future_to_image):\n",
    "        img_prog = future_to_image[future]\n",
    "        try:\n",
    "            data = future.result()\n",
    "        except Exception as exc:\n",
    "            print('%r generated an exception: %s' % (img_prog, exc))'''"
   ]
  },
  {
   "cell_type": "code",
   "execution_count": 80,
   "metadata": {},
   "outputs": [],
   "source": [
    "def save_image_cropped(img0, size=size, pad=16):\n",
    "    img_name = img0[0:1][0]\n",
    "    #crop a box around pixels large than the threshold \n",
    "    #some images contain line at the sides\n",
    "    img0 = 255 - np.reshape(img0[1:], (137, 236))\n",
    "    img0 = img0.astype(np.uint8)  \n",
    "    ymin,ymax,xmin,xmax = bbox(img0[5:-5,5:-5] > 80)\n",
    "    #cropping may cut too much, so we need to add it back\n",
    "    xmin = xmin - 13 if (xmin > 13) else 0\n",
    "    ymin = ymin - 10 if (ymin > 10) else 0\n",
    "    xmax = xmax + 13 if (xmax < WIDTH - 13) else WIDTH\n",
    "    ymax = ymax + 10 if (ymax < HEIGHT - 10) else HEIGHT\n",
    "    img = img0[ymin:ymax,xmin:xmax]\n",
    "    #remove lo intensity pixels as noise\n",
    "    img[img < 28] = 0\n",
    "    lx, ly = xmax-xmin,ymax-ymin\n",
    "    l = max(lx,ly) + pad\n",
    "    #make sure that the aspect ratio is kept in rescaling\n",
    "    img = np.pad(img, [((l-ly)//2,), ((l-lx)//2,)], mode='constant')\n",
    "    img = cv2.resize(img,(size,size))\n",
    "    return cv2.imwrite('./train_images/'+img_name+'.jpg', img) "
   ]
  },
  {
   "cell_type": "code",
   "execution_count": 76,
   "metadata": {},
   "outputs": [
    {
     "data": {
      "text/plain": [
       "'for i in tqdm(range(training_data.shape[0])):\\n    row = training_data.iloc[i].values\\n    save_image(row)'"
      ]
     },
     "execution_count": 76,
     "metadata": {},
     "output_type": "execute_result"
    }
   ],
   "source": [
    "'''for i in tqdm(range(training_data.shape[0])):\n",
    "    row = training_data.iloc[i].values\n",
    "    save_image(row)'''"
   ]
  },
  {
   "cell_type": "code",
   "execution_count": 115,
   "metadata": {},
   "outputs": [],
   "source": [
    "def save_image_trimmed(row):\n",
    "    test_image = np.reshape(row[1:], (137, 236))\n",
    "    test_image = test_image.astype(np.int)\n",
    "    # test_image = np.where(test_image<20,0,test_image)\n",
    "    test_image = Image.fromarray(test_image).convert('RGB')\n",
    "    test_image = trim(test_image)\n",
    "    test_image = test_image.resize((size, size))\n",
    "    test_image.save('./train_images/'+row[0]+'.jpg')"
   ]
  },
  {
   "cell_type": "code",
   "execution_count": 144,
   "metadata": {},
   "outputs": [
    {
     "name": "stderr",
     "output_type": "stream",
     "text": [
      "\n",
      "  0%|                                                                                       | 0/200840 [00:00<?, ?it/s]\n",
      "  0%|                                                                             | 2/200840 [00:00<3:46:11, 14.80it/s]\n",
      "  0%|                                                                             | 5/200840 [00:00<3:26:13, 16.23it/s]\n",
      "  0%|                                                                             | 7/200840 [00:00<3:28:42, 16.04it/s]\n",
      "  0%|                                                                            | 10/200840 [00:00<3:09:39, 17.65it/s]\n",
      "  0%|                                                                            | 13/200840 [00:00<2:55:18, 19.09it/s]\n",
      "  0%|                                                                            | 15/200840 [00:00<3:20:09, 16.72it/s]\n",
      "  0%|                                                                            | 18/200840 [00:00<3:07:21, 17.86it/s]\n",
      "  0%|                                                                            | 20/200840 [00:01<3:02:16, 18.36it/s]\n",
      "  0%|                                                                            | 23/200840 [00:01<2:48:35, 19.85it/s]\n",
      "  0%|                                                                            | 26/200840 [00:01<2:38:09, 21.16it/s]\n",
      "  0%|                                                                            | 29/200840 [00:01<2:30:32, 22.23it/s]\n",
      "  0%|                                                                            | 32/200840 [00:01<2:26:20, 22.87it/s]\n",
      "  0%|                                                                            | 35/200840 [00:01<2:22:56, 23.41it/s]\n",
      "  0%|                                                                            | 38/200840 [00:01<2:19:47, 23.94it/s]\n",
      "  0%|                                                                            | 41/200840 [00:01<2:18:20, 24.19it/s]\n",
      "  0%|                                                                            | 44/200840 [00:02<2:22:09, 23.54it/s]\n",
      "  0%|                                                                            | 47/200840 [00:02<2:17:11, 24.39it/s]\n",
      "  0%|                                                                            | 50/200840 [00:02<2:13:08, 25.13it/s]\n",
      "  0%|                                                                            | 53/200840 [00:02<2:10:09, 25.71it/s]\n",
      "  0%|                                                                            | 57/200840 [00:02<2:03:05, 27.19it/s]\n",
      "  0%|                                                                            | 60/200840 [00:02<2:05:32, 26.66it/s]\n",
      "  0%|                                                                            | 63/200840 [00:02<2:09:21, 25.87it/s]\n",
      "  0%|                                                                            | 66/200840 [00:02<2:14:10, 24.94it/s]\n",
      "  0%|                                                                            | 69/200840 [00:02<2:08:29, 26.04it/s]\n",
      "  0%|                                                                            | 72/200840 [00:03<2:03:54, 27.00it/s]\n",
      "  0%|                                                                            | 75/200840 [00:03<2:02:11, 27.38it/s]\n",
      "  0%|                                                                            | 78/200840 [00:03<2:04:20, 26.91it/s]\n",
      "  0%|                                                                            | 81/200840 [00:03<2:04:21, 26.91it/s]\n",
      "  0%|                                                                            | 84/200840 [00:03<2:04:10, 26.95it/s]\n",
      "  0%|                                                                            | 87/200840 [00:03<2:03:25, 27.11it/s]\n",
      "  0%|                                                                            | 91/200840 [00:03<1:59:33, 27.98it/s]\n",
      "  0%|                                                                            | 94/200840 [00:03<1:57:41, 28.43it/s]\n",
      "  0%|                                                                            | 97/200840 [00:03<1:58:10, 28.31it/s]\n",
      "  0%|                                                                           | 100/200840 [00:04<1:57:20, 28.51it/s]\n",
      "  0%|                                                                           | 103/200840 [00:04<2:01:49, 27.46it/s]\n",
      "  0%|                                                                           | 106/200840 [00:04<2:07:21, 26.27it/s]\n",
      "  0%|                                                                           | 109/200840 [00:04<2:16:01, 24.60it/s]\n",
      "  0%|                                                                           | 112/200840 [00:04<2:17:37, 24.31it/s]\n",
      "  0%|                                                                           | 115/200840 [00:04<2:10:39, 25.60it/s]\n",
      "  0%|                                                                           | 118/200840 [00:04<2:11:45, 25.39it/s]\n",
      "  0%|                                                                           | 121/200840 [00:04<2:10:32, 25.63it/s]\n",
      "  0%|                                                                           | 124/200840 [00:05<2:15:05, 24.76it/s]\n",
      "  0%|                                                                           | 127/200840 [00:05<2:08:58, 25.94it/s]\n",
      "  0%|                                                                           | 131/200840 [00:05<2:03:15, 27.14it/s]\n",
      "  0%|                                                                           | 134/200840 [00:05<2:01:53, 27.44it/s]\n",
      "  0%|                                                                           | 137/200840 [00:05<2:07:15, 26.28it/s]\n",
      "  0%|                                                                           | 140/200840 [00:05<2:06:26, 26.46it/s]\n",
      "  0%|                                                                           | 143/200840 [00:05<2:02:30, 27.30it/s]\n",
      "  0%|                                                                           | 146/200840 [00:05<2:04:50, 26.79it/s]\n",
      "  0%|                                                                           | 149/200840 [00:05<2:04:42, 26.82it/s]\n",
      "  0%|                                                                           | 152/200840 [00:06<2:04:45, 26.81it/s]\n",
      "  0%|                                                                           | 156/200840 [00:06<2:01:25, 27.55it/s]\n",
      "  0%|                                                                           | 159/200840 [00:06<2:05:34, 26.63it/s]\n",
      "  0%|                                                                           | 162/200840 [00:06<2:06:04, 26.53it/s]\n",
      "  0%|                                                                           | 165/200840 [00:06<2:07:30, 26.23it/s]\n",
      "  0%|                                                                           | 168/200840 [00:06<2:07:10, 26.30it/s]\n",
      "  0%|                                                                           | 171/200840 [00:06<2:07:04, 26.32it/s]\n",
      "  0%|                                                                           | 174/200840 [00:06<2:04:16, 26.91it/s]\n",
      "  0%|                                                                           | 177/200840 [00:07<2:04:17, 26.91it/s]\n",
      "  0%|                                                                           | 180/200840 [00:07<2:05:19, 26.68it/s]\n",
      "  0%|                                                                           | 183/200840 [00:07<2:03:22, 27.11it/s]\n",
      "  0%|                                                                           | 186/200840 [00:07<2:10:53, 25.55it/s]\n",
      "  0%|                                                                           | 189/200840 [00:07<2:16:05, 24.57it/s]\n",
      "  0%|                                                                           | 192/200840 [00:07<2:13:27, 25.06it/s]\n",
      "  0%|                                                                           | 195/200840 [00:07<2:11:48, 25.37it/s]\n",
      "  0%|                                                                           | 198/200840 [00:07<2:14:09, 24.92it/s]\n",
      "  0%|                                                                           | 201/200840 [00:07<2:17:17, 24.36it/s]\n",
      "  0%|                                                                           | 204/200840 [00:08<2:17:44, 24.28it/s]\n",
      "  0%|                                                                           | 207/200840 [00:08<2:17:12, 24.37it/s]\n",
      "  0%|                                                                           | 210/200840 [00:08<2:13:07, 25.12it/s]\n",
      "  0%|                                                                           | 213/200840 [00:08<2:09:18, 25.86it/s]\n",
      "  0%|                                                                           | 216/200840 [00:08<2:09:09, 25.89it/s]\n",
      "  0%|                                                                           | 219/200840 [00:08<2:10:10, 25.69it/s]\n",
      "  0%|                                                                           | 222/200840 [00:08<2:09:52, 25.74it/s]\n",
      "  0%|                                                                           | 225/200840 [00:08<2:11:18, 25.46it/s]\n",
      "  0%|                                                                           | 228/200840 [00:09<2:09:09, 25.89it/s]\n",
      "  0%|                                                                           | 231/200840 [00:09<2:09:33, 25.81it/s]\n",
      "  0%|                                                                           | 234/200840 [00:09<2:11:51, 25.36it/s]\n",
      "  0%|                                                                           | 237/200840 [00:09<2:12:15, 25.28it/s]\n",
      "  0%|                                                                           | 240/200840 [00:09<2:11:57, 25.34it/s]\n",
      "  0%|                                                                           | 243/200840 [00:09<2:13:56, 24.96it/s]\n",
      "  0%|                                                                           | 246/200840 [00:09<2:13:15, 25.09it/s]\n",
      "  0%|                                                                           | 249/200840 [00:09<2:11:34, 25.41it/s]\n",
      "  0%|                                                                           | 252/200840 [00:09<2:13:28, 25.05it/s]\n",
      "  0%|                                                                           | 255/200840 [00:10<2:13:26, 25.05it/s]\n",
      "  0%|                                                                           | 258/200840 [00:10<2:10:57, 25.53it/s]\n",
      "  0%|                                                                           | 261/200840 [00:10<2:41:45, 20.67it/s]\n",
      "  0%|                                                                           | 264/200840 [00:10<2:30:59, 22.14it/s]\n",
      "  0%|                                                                           | 267/200840 [00:10<2:25:28, 22.98it/s]\n",
      "  0%|                                                                           | 270/200840 [00:10<2:21:39, 23.60it/s]\n",
      "  0%|                                                                           | 273/200840 [00:10<2:20:32, 23.79it/s]\n",
      "  0%|                                                                           | 276/200840 [00:11<2:19:20, 23.99it/s]\n",
      "  0%|                                                                           | 279/200840 [00:11<2:24:50, 23.08it/s]\n",
      "  0%|                                                                           | 282/200840 [00:11<2:34:35, 21.62it/s]\n",
      "  0%|                                                                           | 286/200840 [00:11<2:17:11, 24.37it/s]\n",
      "  0%|                                                                           | 289/200840 [00:11<2:15:54, 24.59it/s]\n",
      "  0%|                                                                           | 292/200840 [00:11<2:17:51, 24.24it/s]\n",
      "  0%|                                                                           | 295/200840 [00:11<2:17:08, 24.37it/s]\n",
      "  0%|                                                                           | 298/200840 [00:11<2:16:57, 24.40it/s]\n",
      "  0%|                                                                           | 302/200840 [00:12<2:07:43, 26.17it/s]\n",
      "  0%|                                                                           | 305/200840 [00:12<2:03:17, 27.11it/s]\n",
      "  0%|                                                                           | 308/200840 [00:12<2:09:27, 25.82it/s]\n",
      "  0%|                                                                           | 311/200840 [00:12<2:09:06, 25.89it/s]\n",
      "  0%|                                                                           | 314/200840 [00:12<2:11:16, 25.46it/s]\n",
      "  0%|                                                                           | 317/200840 [00:12<2:12:24, 25.24it/s]\n",
      "  0%|                                                                           | 320/200840 [00:12<2:10:29, 25.61it/s]\n",
      "  0%|                                                                           | 323/200840 [00:12<2:10:27, 25.62it/s]\n",
      "  0%|                                                                           | 326/200840 [00:13<2:13:21, 25.06it/s]\n",
      "  0%|                                                                           | 329/200840 [00:13<2:14:45, 24.80it/s]\n",
      "  0%|                                                                           | 332/200840 [00:13<2:15:45, 24.62it/s]\n",
      "  0%|▏                                                                          | 335/200840 [00:13<2:10:59, 25.51it/s]\n",
      "  0%|▏                                                                          | 338/200840 [00:13<2:14:26, 24.86it/s]\n",
      "  0%|▏                                                                          | 341/200840 [00:13<2:16:27, 24.49it/s]\n",
      "  0%|▏                                                                          | 344/200840 [00:13<2:35:39, 21.47it/s]\n",
      "  0%|▏                                                                          | 347/200840 [00:13<2:39:08, 21.00it/s]\n",
      "  0%|▏                                                                          | 350/200840 [00:14<2:43:17, 20.46it/s]\n",
      "  0%|▏                                                                          | 353/200840 [00:14<3:14:29, 17.18it/s]\n",
      "  0%|▏                                                                          | 356/200840 [00:14<2:51:39, 19.46it/s]\n",
      "  0%|▏                                                                          | 359/200840 [00:14<2:37:15, 21.25it/s]\n",
      "  0%|▏                                                                          | 362/200840 [00:14<2:31:02, 22.12it/s]\n",
      "  0%|▏                                                                          | 365/200840 [00:14<2:25:01, 23.04it/s]\n",
      "  0%|▏                                                                          | 368/200840 [00:14<2:15:00, 24.75it/s]\n",
      "  0%|▏                                                                          | 371/200840 [00:15<2:10:24, 25.62it/s]\n",
      "  0%|▏                                                                          | 374/200840 [00:15<2:14:46, 24.79it/s]\n",
      "  0%|▏                                                                          | 377/200840 [00:15<2:15:46, 24.61it/s]\n",
      "  0%|▏                                                                          | 380/200840 [00:15<2:19:02, 24.03it/s]\n",
      "  0%|▏                                                                          | 383/200840 [00:15<2:25:48, 22.91it/s]\n",
      "  0%|▏                                                                          | 386/200840 [00:15<2:17:16, 24.34it/s]\n",
      "  0%|▏                                                                          | 389/200840 [00:15<2:17:30, 24.30it/s]\n",
      "  0%|▏                                                                          | 392/200840 [00:15<2:24:22, 23.14it/s]\n",
      "  0%|▏                                                                          | 395/200840 [00:16<2:35:47, 21.44it/s]\n",
      "  0%|▏                                                                          | 398/200840 [00:16<2:46:19, 20.08it/s]\n",
      "  0%|▏                                                                          | 401/200840 [00:16<3:07:05, 17.86it/s]\n",
      "  0%|▏                                                                          | 403/200840 [00:16<3:15:27, 17.09it/s]\n",
      "  0%|▏                                                                          | 405/200840 [00:16<3:08:51, 17.69it/s]\n"
     ]
    },
    {
     "name": "stderr",
     "output_type": "stream",
     "text": [
      "  0%|▏                                                                          | 407/200840 [00:16<3:02:47, 18.28it/s]\n",
      "  0%|▏                                                                          | 409/200840 [00:16<2:58:48, 18.68it/s]\n",
      "  0%|▏                                                                          | 411/200840 [00:17<3:15:58, 17.05it/s]\n",
      "  0%|▏                                                                          | 413/200840 [00:17<3:25:03, 16.29it/s]\n",
      "  0%|▏                                                                          | 416/200840 [00:17<3:07:49, 17.79it/s]\n",
      "  0%|▏                                                                          | 419/200840 [00:17<2:50:25, 19.60it/s]\n",
      "  0%|▏                                                                          | 422/200840 [00:17<2:43:52, 20.38it/s]\n",
      "  0%|▏                                                                          | 425/200840 [00:17<2:43:22, 20.45it/s]\n",
      "  0%|▏                                                                          | 428/200840 [00:17<2:44:54, 20.25it/s]\n",
      "  0%|▏                                                                          | 431/200840 [00:17<2:44:23, 20.32it/s]\n",
      "  0%|▏                                                                          | 435/200840 [00:18<2:29:24, 22.36it/s]\n",
      "  0%|▏                                                                          | 438/200840 [00:18<2:27:15, 22.68it/s]\n",
      "  0%|▏                                                                          | 441/200840 [00:18<2:23:29, 23.28it/s]\n",
      "  0%|▏                                                                          | 445/200840 [00:18<2:12:47, 25.15it/s]\n",
      "  0%|▏                                                                          | 448/200840 [00:18<2:47:07, 19.98it/s]\n",
      "  0%|▏                                                                          | 451/200840 [00:18<2:48:16, 19.85it/s]\n",
      "  0%|▏                                                                          | 454/200840 [00:19<2:35:54, 21.42it/s]\n",
      "  0%|▏                                                                          | 458/200840 [00:19<2:19:41, 23.91it/s]\n",
      "  0%|▏                                                                          | 461/200840 [00:19<2:17:02, 24.37it/s]\n",
      "  0%|▏                                                                          | 464/200840 [00:19<2:16:16, 24.51it/s]\n",
      "  0%|▏                                                                          | 467/200840 [00:19<2:34:37, 21.60it/s]\n",
      "  0%|▏                                                                          | 470/200840 [00:19<2:39:50, 20.89it/s]\n",
      "  0%|▏                                                                          | 473/200840 [00:19<2:36:01, 21.40it/s]\n",
      "  0%|▏                                                                          | 476/200840 [00:19<2:40:00, 20.87it/s]\n",
      "  0%|▏                                                                          | 479/200840 [00:20<3:09:24, 17.63it/s]\n",
      "  0%|▏                                                                          | 481/200840 [00:20<3:27:52, 16.06it/s]\n",
      "  0%|▏                                                                          | 484/200840 [00:20<3:12:45, 17.32it/s]\n",
      "  0%|▏                                                                          | 487/200840 [00:20<2:58:30, 18.71it/s]\n",
      "  0%|▏                                                                          | 490/200840 [00:20<2:45:58, 20.12it/s]\n",
      "  0%|▏                                                                          | 493/200840 [00:20<2:38:15, 21.10it/s]\n",
      "  0%|▏                                                                          | 496/200840 [00:21<2:32:16, 21.93it/s]\n",
      "  0%|▏                                                                          | 499/200840 [00:21<2:41:57, 20.62it/s]\n",
      "  0%|▏                                                                          | 502/200840 [00:21<3:02:42, 18.27it/s]\n",
      "  0%|▏                                                                          | 505/200840 [00:21<2:48:39, 19.80it/s]\n",
      "  0%|▏                                                                          | 508/200840 [00:21<2:38:01, 21.13it/s]\n",
      "  0%|▏                                                                          | 511/200840 [00:21<2:27:27, 22.64it/s]\n",
      "  0%|▏                                                                          | 514/200840 [00:21<2:17:11, 24.34it/s]\n",
      "  0%|▏                                                                          | 518/200840 [00:21<2:05:46, 26.55it/s]\n",
      "  0%|▏                                                                          | 521/200840 [00:22<2:01:26, 27.49it/s]\n",
      "  0%|▏                                                                          | 524/200840 [00:22<2:01:35, 27.46it/s]\n",
      "  0%|▏                                                                          | 527/200840 [00:22<2:07:09, 26.26it/s]\n",
      "  0%|▏                                                                          | 530/200840 [00:22<2:11:12, 25.44it/s]\n",
      "  0%|▏                                                                          | 533/200840 [00:22<2:34:47, 21.57it/s]\n",
      "  0%|▏                                                                          | 536/200840 [00:22<2:29:24, 22.34it/s]\n",
      "  0%|▏                                                                          | 539/200840 [00:22<2:22:43, 23.39it/s]\n",
      "  0%|▏                                                                          | 542/200840 [00:22<2:17:35, 24.26it/s]\n",
      "  0%|▏                                                                          | 546/200840 [00:23<2:08:14, 26.03it/s]\n",
      "  0%|▏                                                                          | 549/200840 [00:23<2:06:25, 26.40it/s]\n",
      "  0%|▏                                                                          | 552/200840 [00:23<2:09:40, 25.74it/s]\n",
      "  0%|▏                                                                          | 555/200840 [00:23<2:12:26, 25.21it/s]\n",
      "  0%|▏                                                                          | 558/200840 [00:23<2:14:20, 24.85it/s]\n",
      "  0%|▏                                                                          | 561/200840 [00:23<2:15:57, 24.55it/s]\n",
      "  0%|▏                                                                          | 564/200840 [00:23<2:15:16, 24.68it/s]\n",
      "  0%|▏                                                                          | 567/200840 [00:23<2:15:22, 24.66it/s]\n",
      "  0%|▏                                                                          | 570/200840 [00:24<2:16:42, 24.41it/s]\n",
      "  0%|▏                                                                          | 573/200840 [00:24<2:23:40, 23.23it/s]\n",
      "  0%|▏                                                                          | 576/200840 [00:24<2:52:48, 19.31it/s]\n",
      "  0%|▏                                                                          | 579/200840 [00:24<3:21:41, 16.55it/s]\n",
      "  0%|▏                                                                          | 582/200840 [00:24<2:59:55, 18.55it/s]\n",
      "  0%|▏                                                                          | 585/200840 [00:24<2:47:05, 19.97it/s]\n",
      "  0%|▏                                                                          | 588/200840 [00:25<2:40:22, 20.81it/s]\n",
      "  0%|▏                                                                          | 591/200840 [00:25<2:32:16, 21.92it/s]\n",
      "  0%|▏                                                                          | 594/200840 [00:25<2:31:58, 21.96it/s]\n",
      "  0%|▏                                                                          | 597/200840 [00:25<2:26:44, 22.74it/s]\n",
      "  0%|▏                                                                          | 600/200840 [00:25<2:22:42, 23.38it/s]\n",
      "  0%|▏                                                                          | 603/200840 [00:25<2:20:54, 23.68it/s]\n",
      "  0%|▏                                                                          | 606/200840 [00:25<2:19:09, 23.98it/s]\n",
      "  0%|▏                                                                          | 609/200840 [00:25<2:17:12, 24.32it/s]\n",
      "  0%|▏                                                                          | 612/200840 [00:26<2:15:57, 24.54it/s]\n",
      "  0%|▏                                                                          | 615/200840 [00:26<2:16:03, 24.53it/s]\n",
      "  0%|▏                                                                          | 618/200840 [00:26<2:15:03, 24.71it/s]\n",
      "  0%|▏                                                                          | 621/200840 [00:26<2:14:45, 24.76it/s]\n",
      "  0%|▏                                                                          | 624/200840 [00:26<2:14:53, 24.74it/s]\n",
      "  0%|▏                                                                          | 627/200840 [00:26<2:15:58, 24.54it/s]\n",
      "  0%|▏                                                                          | 630/200840 [00:26<2:16:57, 24.36it/s]\n",
      "  0%|▏                                                                          | 633/200840 [00:26<2:17:56, 24.19it/s]\n",
      "  0%|▏                                                                          | 636/200840 [00:26<2:18:01, 24.18it/s]\n",
      "  0%|▏                                                                          | 639/200840 [00:27<2:24:41, 23.06it/s]\n",
      "  0%|▏                                                                          | 642/200840 [00:27<2:59:38, 18.57it/s]\n",
      "  0%|▏                                                                          | 645/200840 [00:27<3:14:18, 17.17it/s]\n",
      "  0%|▏                                                                          | 648/200840 [00:27<3:02:25, 18.29it/s]\n",
      "  0%|▏                                                                          | 650/200840 [00:27<3:00:36, 18.47it/s]\n",
      "  0%|▏                                                                          | 652/200840 [00:27<2:57:30, 18.80it/s]\n",
      "  0%|▏                                                                          | 654/200840 [00:28<2:59:05, 18.63it/s]\n",
      "  0%|▏                                                                          | 656/200840 [00:28<2:58:44, 18.67it/s]\n",
      "  0%|▏                                                                          | 659/200840 [00:28<2:50:45, 19.54it/s]\n",
      "  0%|▏                                                                          | 662/200840 [00:28<2:40:17, 20.81it/s]\n",
      "  0%|▏                                                                          | 665/200840 [00:28<2:32:24, 21.89it/s]\n",
      "  0%|▏                                                                          | 668/200840 [00:28<2:29:42, 22.29it/s]\n",
      "  0%|▎                                                                          | 671/200840 [00:28<2:32:34, 21.87it/s]\n",
      "  0%|▎                                                                          | 674/200840 [00:28<2:29:08, 22.37it/s]\n",
      "  0%|▎                                                                          | 677/200840 [00:29<2:26:03, 22.84it/s]\n",
      "  0%|▎                                                                          | 680/200840 [00:29<2:23:25, 23.26it/s]\n",
      "  0%|▎                                                                          | 683/200840 [00:29<2:21:39, 23.55it/s]\n",
      "  0%|▎                                                                          | 686/200840 [00:29<2:18:48, 24.03it/s]\n",
      "  0%|▎                                                                          | 689/200840 [00:29<2:19:18, 23.94it/s]\n",
      "  0%|▎                                                                          | 692/200840 [00:29<2:17:38, 24.23it/s]\n",
      "  0%|▎                                                                          | 695/200840 [00:29<2:16:58, 24.35it/s]\n",
      "  0%|▎                                                                          | 698/200840 [00:29<2:21:59, 23.49it/s]\n",
      "  0%|▎                                                                          | 701/200840 [00:30<2:21:01, 23.65it/s]\n",
      "  0%|▎                                                                          | 704/200840 [00:30<2:19:34, 23.90it/s]\n",
      "  0%|▎                                                                          | 707/200840 [00:30<2:16:43, 24.40it/s]\n",
      "  0%|▎                                                                          | 710/200840 [00:30<2:16:11, 24.49it/s]\n",
      "  0%|▎                                                                          | 713/200840 [00:30<2:15:55, 24.54it/s]\n",
      "  0%|▎                                                                          | 716/200840 [00:30<2:16:43, 24.40it/s]\n",
      "  0%|▎                                                                          | 719/200840 [00:30<2:17:23, 24.28it/s]\n",
      "  0%|▎                                                                          | 722/200840 [00:30<2:15:44, 24.57it/s]\n",
      "  0%|▎                                                                          | 725/200840 [00:31<2:14:44, 24.75it/s]\n",
      "  0%|▎                                                                          | 728/200840 [00:31<2:16:06, 24.50it/s]\n",
      "  0%|▎                                                                          | 731/200840 [00:31<2:16:07, 24.50it/s]\n",
      "  0%|▎                                                                          | 734/200840 [00:31<2:14:08, 24.86it/s]\n",
      "  0%|▎                                                                          | 737/200840 [00:31<2:14:20, 24.83it/s]\n",
      "  0%|▎                                                                          | 740/200840 [00:31<2:13:18, 25.02it/s]\n",
      "  0%|▎                                                                          | 743/200840 [00:31<2:14:29, 24.80it/s]\n",
      "  0%|▎                                                                          | 746/200840 [00:31<2:13:19, 25.01it/s]\n",
      "  0%|▎                                                                          | 749/200840 [00:31<2:14:56, 24.71it/s]\n",
      "  0%|▎                                                                          | 752/200840 [00:32<2:13:56, 24.90it/s]\n",
      "  0%|▎                                                                          | 755/200840 [00:32<2:17:12, 24.30it/s]\n",
      "  0%|▎                                                                          | 758/200840 [00:32<2:18:55, 24.00it/s]\n",
      "  0%|▎                                                                          | 761/200840 [00:32<2:17:28, 24.26it/s]\n",
      "  0%|▎                                                                          | 764/200840 [00:32<2:17:33, 24.24it/s]\n",
      "  0%|▎                                                                          | 767/200840 [00:32<2:17:21, 24.28it/s]\n",
      "  0%|▎                                                                          | 770/200840 [00:32<2:18:03, 24.15it/s]\n",
      "  0%|▎                                                                          | 773/200840 [00:32<2:16:46, 24.38it/s]\n",
      "  0%|▎                                                                          | 776/200840 [00:33<2:17:31, 24.24it/s]\n",
      "  0%|▎                                                                          | 779/200840 [00:33<2:19:09, 23.96it/s]\n",
      "  0%|▎                                                                          | 782/200840 [00:33<2:16:04, 24.50it/s]\n",
      "  0%|▎                                                                          | 785/200840 [00:33<2:23:17, 23.27it/s]\n",
      "  0%|▎                                                                          | 788/200840 [00:33<2:17:22, 24.27it/s]\n",
      "  0%|▎                                                                          | 791/200840 [00:33<2:15:36, 24.59it/s]\n",
      "  0%|▎                                                                          | 794/200840 [00:33<2:16:19, 24.46it/s]\n",
      "  0%|▎                                                                          | 797/200840 [00:33<2:15:16, 24.65it/s]\n",
      "  0%|▎                                                                          | 800/200840 [00:34<2:15:10, 24.66it/s]\n",
      "  0%|▎                                                                          | 803/200840 [00:34<2:16:43, 24.38it/s]\n",
      "  0%|▎                                                                          | 806/200840 [00:34<2:15:50, 24.54it/s]\n",
      "  0%|▎                                                                          | 809/200840 [00:34<2:15:33, 24.59it/s]\n",
      "  0%|▎                                                                          | 812/200840 [00:34<2:14:13, 24.84it/s]"
     ]
    },
    {
     "ename": "KeyboardInterrupt",
     "evalue": "",
     "output_type": "error",
     "traceback": [
      "\u001b[1;31m---------------------------------------------------------------------------\u001b[0m",
      "\u001b[1;31mKeyboardInterrupt\u001b[0m                         Traceback (most recent call last)",
      "\u001b[1;32m<ipython-input-144-0ce724aaf2b0>\u001b[0m in \u001b[0;36m<module>\u001b[1;34m\u001b[0m\n\u001b[0;32m      1\u001b[0m \u001b[1;32mfor\u001b[0m \u001b[0mi\u001b[0m \u001b[1;32min\u001b[0m \u001b[0mtqdm\u001b[0m\u001b[1;33m(\u001b[0m\u001b[0mrange\u001b[0m\u001b[1;33m(\u001b[0m\u001b[0mtraining_data\u001b[0m\u001b[1;33m.\u001b[0m\u001b[0mshape\u001b[0m\u001b[1;33m[\u001b[0m\u001b[1;36m0\u001b[0m\u001b[1;33m]\u001b[0m\u001b[1;33m)\u001b[0m\u001b[1;33m)\u001b[0m\u001b[1;33m:\u001b[0m\u001b[1;33m\u001b[0m\u001b[0m\n\u001b[1;32m----> 2\u001b[1;33m     \u001b[0mrow\u001b[0m \u001b[1;33m=\u001b[0m \u001b[0mtraining_data\u001b[0m\u001b[1;33m.\u001b[0m\u001b[0miloc\u001b[0m\u001b[1;33m[\u001b[0m\u001b[0mi\u001b[0m\u001b[1;33m]\u001b[0m\u001b[1;33m.\u001b[0m\u001b[0mvalues\u001b[0m\u001b[1;33m\u001b[0m\u001b[0m\n\u001b[0m\u001b[0;32m      3\u001b[0m     \u001b[0msave_image\u001b[0m\u001b[1;33m(\u001b[0m\u001b[0mrow\u001b[0m\u001b[1;33m)\u001b[0m\u001b[1;33m\u001b[0m\u001b[0m\n",
      "\u001b[1;32mc:\\users\\y2ee2\\anaconda3\\envs\\devenv\\lib\\site-packages\\pandas\\core\\indexing.py\u001b[0m in \u001b[0;36m__getitem__\u001b[1;34m(self, key)\u001b[0m\n\u001b[0;32m   1422\u001b[0m \u001b[1;33m\u001b[0m\u001b[0m\n\u001b[0;32m   1423\u001b[0m             \u001b[0mmaybe_callable\u001b[0m \u001b[1;33m=\u001b[0m \u001b[0mcom\u001b[0m\u001b[1;33m.\u001b[0m\u001b[0mapply_if_callable\u001b[0m\u001b[1;33m(\u001b[0m\u001b[0mkey\u001b[0m\u001b[1;33m,\u001b[0m \u001b[0mself\u001b[0m\u001b[1;33m.\u001b[0m\u001b[0mobj\u001b[0m\u001b[1;33m)\u001b[0m\u001b[1;33m\u001b[0m\u001b[0m\n\u001b[1;32m-> 1424\u001b[1;33m             \u001b[1;32mreturn\u001b[0m \u001b[0mself\u001b[0m\u001b[1;33m.\u001b[0m\u001b[0m_getitem_axis\u001b[0m\u001b[1;33m(\u001b[0m\u001b[0mmaybe_callable\u001b[0m\u001b[1;33m,\u001b[0m \u001b[0maxis\u001b[0m\u001b[1;33m=\u001b[0m\u001b[0maxis\u001b[0m\u001b[1;33m)\u001b[0m\u001b[1;33m\u001b[0m\u001b[0m\n\u001b[0m\u001b[0;32m   1425\u001b[0m \u001b[1;33m\u001b[0m\u001b[0m\n\u001b[0;32m   1426\u001b[0m     \u001b[1;32mdef\u001b[0m \u001b[0m_is_scalar_access\u001b[0m\u001b[1;33m(\u001b[0m\u001b[0mself\u001b[0m\u001b[1;33m,\u001b[0m \u001b[0mkey\u001b[0m\u001b[1;33m:\u001b[0m \u001b[0mTuple\u001b[0m\u001b[1;33m)\u001b[0m\u001b[1;33m:\u001b[0m\u001b[1;33m\u001b[0m\u001b[0m\n",
      "\u001b[1;32mc:\\users\\y2ee2\\anaconda3\\envs\\devenv\\lib\\site-packages\\pandas\\core\\indexing.py\u001b[0m in \u001b[0;36m_getitem_axis\u001b[1;34m(self, key, axis)\u001b[0m\n\u001b[0;32m   2157\u001b[0m             \u001b[0mself\u001b[0m\u001b[1;33m.\u001b[0m\u001b[0m_validate_integer\u001b[0m\u001b[1;33m(\u001b[0m\u001b[0mkey\u001b[0m\u001b[1;33m,\u001b[0m \u001b[0maxis\u001b[0m\u001b[1;33m)\u001b[0m\u001b[1;33m\u001b[0m\u001b[0m\n\u001b[0;32m   2158\u001b[0m \u001b[1;33m\u001b[0m\u001b[0m\n\u001b[1;32m-> 2159\u001b[1;33m             \u001b[1;32mreturn\u001b[0m \u001b[0mself\u001b[0m\u001b[1;33m.\u001b[0m\u001b[0m_get_loc\u001b[0m\u001b[1;33m(\u001b[0m\u001b[0mkey\u001b[0m\u001b[1;33m,\u001b[0m \u001b[0maxis\u001b[0m\u001b[1;33m=\u001b[0m\u001b[0maxis\u001b[0m\u001b[1;33m)\u001b[0m\u001b[1;33m\u001b[0m\u001b[0m\n\u001b[0m\u001b[0;32m   2160\u001b[0m \u001b[1;33m\u001b[0m\u001b[0m\n\u001b[0;32m   2161\u001b[0m     \u001b[1;31m# raise_missing is included for compat with the parent class signature\u001b[0m\u001b[1;33m\u001b[0m\u001b[1;33m\u001b[0m\u001b[0m\n",
      "\u001b[1;32mc:\\users\\y2ee2\\anaconda3\\envs\\devenv\\lib\\site-packages\\pandas\\core\\indexing.py\u001b[0m in \u001b[0;36m_get_loc\u001b[1;34m(self, key, axis)\u001b[0m\n\u001b[0;32m    161\u001b[0m \u001b[1;33m\u001b[0m\u001b[0m\n\u001b[0;32m    162\u001b[0m     \u001b[1;32mdef\u001b[0m \u001b[0m_get_loc\u001b[0m\u001b[1;33m(\u001b[0m\u001b[0mself\u001b[0m\u001b[1;33m,\u001b[0m \u001b[0mkey\u001b[0m\u001b[1;33m:\u001b[0m \u001b[0mint\u001b[0m\u001b[1;33m,\u001b[0m \u001b[0maxis\u001b[0m\u001b[1;33m:\u001b[0m \u001b[0mint\u001b[0m\u001b[1;33m)\u001b[0m\u001b[1;33m:\u001b[0m\u001b[1;33m\u001b[0m\u001b[0m\n\u001b[1;32m--> 163\u001b[1;33m         \u001b[1;32mreturn\u001b[0m \u001b[0mself\u001b[0m\u001b[1;33m.\u001b[0m\u001b[0mobj\u001b[0m\u001b[1;33m.\u001b[0m\u001b[0m_ixs\u001b[0m\u001b[1;33m(\u001b[0m\u001b[0mkey\u001b[0m\u001b[1;33m,\u001b[0m \u001b[0maxis\u001b[0m\u001b[1;33m=\u001b[0m\u001b[0maxis\u001b[0m\u001b[1;33m)\u001b[0m\u001b[1;33m\u001b[0m\u001b[0m\n\u001b[0m\u001b[0;32m    164\u001b[0m \u001b[1;33m\u001b[0m\u001b[0m\n\u001b[0;32m    165\u001b[0m     \u001b[1;32mdef\u001b[0m \u001b[0m_slice\u001b[0m\u001b[1;33m(\u001b[0m\u001b[0mself\u001b[0m\u001b[1;33m,\u001b[0m \u001b[0mobj\u001b[0m\u001b[1;33m,\u001b[0m \u001b[0maxis\u001b[0m\u001b[1;33m:\u001b[0m \u001b[0mint\u001b[0m\u001b[1;33m,\u001b[0m \u001b[0mkind\u001b[0m\u001b[1;33m=\u001b[0m\u001b[1;32mNone\u001b[0m\u001b[1;33m)\u001b[0m\u001b[1;33m:\u001b[0m\u001b[1;33m\u001b[0m\u001b[0m\n",
      "\u001b[1;32mc:\\users\\y2ee2\\anaconda3\\envs\\devenv\\lib\\site-packages\\pandas\\core\\frame.py\u001b[0m in \u001b[0;36m_ixs\u001b[1;34m(self, i, axis)\u001b[0m\n\u001b[0;32m   2913\u001b[0m         \u001b[1;32mif\u001b[0m \u001b[0maxis\u001b[0m \u001b[1;33m==\u001b[0m \u001b[1;36m0\u001b[0m\u001b[1;33m:\u001b[0m\u001b[1;33m\u001b[0m\u001b[0m\n\u001b[0;32m   2914\u001b[0m             \u001b[0mlabel\u001b[0m \u001b[1;33m=\u001b[0m \u001b[0mself\u001b[0m\u001b[1;33m.\u001b[0m\u001b[0mindex\u001b[0m\u001b[1;33m[\u001b[0m\u001b[0mi\u001b[0m\u001b[1;33m]\u001b[0m\u001b[1;33m\u001b[0m\u001b[0m\n\u001b[1;32m-> 2915\u001b[1;33m             \u001b[0mnew_values\u001b[0m \u001b[1;33m=\u001b[0m \u001b[0mself\u001b[0m\u001b[1;33m.\u001b[0m\u001b[0m_data\u001b[0m\u001b[1;33m.\u001b[0m\u001b[0mfast_xs\u001b[0m\u001b[1;33m(\u001b[0m\u001b[0mi\u001b[0m\u001b[1;33m)\u001b[0m\u001b[1;33m\u001b[0m\u001b[0m\n\u001b[0m\u001b[0;32m   2916\u001b[0m             \u001b[1;32mif\u001b[0m \u001b[0mis_scalar\u001b[0m\u001b[1;33m(\u001b[0m\u001b[0mnew_values\u001b[0m\u001b[1;33m)\u001b[0m\u001b[1;33m:\u001b[0m\u001b[1;33m\u001b[0m\u001b[0m\n\u001b[0;32m   2917\u001b[0m                 \u001b[1;32mreturn\u001b[0m \u001b[0mnew_values\u001b[0m\u001b[1;33m\u001b[0m\u001b[0m\n",
      "\u001b[1;32mc:\\users\\y2ee2\\anaconda3\\envs\\devenv\\lib\\site-packages\\pandas\\core\\internals\\managers.py\u001b[0m in \u001b[0;36mfast_xs\u001b[1;34m(self, loc)\u001b[0m\n\u001b[0;32m    910\u001b[0m             \u001b[1;31m# result[blk.mgr_locs] = blk._slice((slice(None), loc))\u001b[0m\u001b[1;33m\u001b[0m\u001b[1;33m\u001b[0m\u001b[0m\n\u001b[0;32m    911\u001b[0m             \u001b[1;32mfor\u001b[0m \u001b[0mi\u001b[0m\u001b[1;33m,\u001b[0m \u001b[0mrl\u001b[0m \u001b[1;32min\u001b[0m \u001b[0menumerate\u001b[0m\u001b[1;33m(\u001b[0m\u001b[0mblk\u001b[0m\u001b[1;33m.\u001b[0m\u001b[0mmgr_locs\u001b[0m\u001b[1;33m)\u001b[0m\u001b[1;33m:\u001b[0m\u001b[1;33m\u001b[0m\u001b[0m\n\u001b[1;32m--> 912\u001b[1;33m                 \u001b[0mresult\u001b[0m\u001b[1;33m[\u001b[0m\u001b[0mrl\u001b[0m\u001b[1;33m]\u001b[0m \u001b[1;33m=\u001b[0m \u001b[0mblk\u001b[0m\u001b[1;33m.\u001b[0m\u001b[0m_try_coerce_result\u001b[0m\u001b[1;33m(\u001b[0m\u001b[0mblk\u001b[0m\u001b[1;33m.\u001b[0m\u001b[0miget\u001b[0m\u001b[1;33m(\u001b[0m\u001b[1;33m(\u001b[0m\u001b[0mi\u001b[0m\u001b[1;33m,\u001b[0m \u001b[0mloc\u001b[0m\u001b[1;33m)\u001b[0m\u001b[1;33m)\u001b[0m\u001b[1;33m)\u001b[0m\u001b[1;33m\u001b[0m\u001b[0m\n\u001b[0m\u001b[0;32m    913\u001b[0m \u001b[1;33m\u001b[0m\u001b[0m\n\u001b[0;32m    914\u001b[0m         \u001b[1;32mif\u001b[0m \u001b[0mis_extension_array_dtype\u001b[0m\u001b[1;33m(\u001b[0m\u001b[0mdtype\u001b[0m\u001b[1;33m)\u001b[0m\u001b[1;33m:\u001b[0m\u001b[1;33m\u001b[0m\u001b[0m\n",
      "\u001b[1;31mKeyboardInterrupt\u001b[0m: "
     ]
    }
   ],
   "source": [
    "for i in tqdm(range(training_data.shape[0])):\n",
    "    row = training_data.iloc[i].values\n",
    "    save_image(row)"
   ]
  },
  {
   "cell_type": "code",
   "execution_count": 69,
   "metadata": {},
   "outputs": [
    {
     "data": {
      "text/plain": [
       "4851"
      ]
     },
     "execution_count": 69,
     "metadata": {},
     "output_type": "execute_result"
    }
   ],
   "source": [
    "i"
   ]
  },
  {
   "cell_type": "code",
   "execution_count": 80,
   "metadata": {},
   "outputs": [
    {
     "ename": "AxisError",
     "evalue": "axis 2 is out of bounds for array of dimension 2",
     "output_type": "error",
     "traceback": [
      "\u001b[1;31m---------------------------------------------------------------------------\u001b[0m",
      "\u001b[1;31mAxisError\u001b[0m                                 Traceback (most recent call last)",
      "\u001b[1;32m<ipython-input-80-c8f2e274a3f9>\u001b[0m in \u001b[0;36m<module>\u001b[1;34m\u001b[0m\n\u001b[0;32m      1\u001b[0m \u001b[0mimage_data\u001b[0m \u001b[1;33m=\u001b[0m \u001b[0mnp\u001b[0m\u001b[1;33m.\u001b[0m\u001b[0masarray\u001b[0m\u001b[1;33m(\u001b[0m\u001b[0mtest_image\u001b[0m\u001b[1;33m)\u001b[0m\u001b[1;33m\u001b[0m\u001b[0m\n\u001b[1;32m----> 2\u001b[1;33m \u001b[0mimage_data_bw\u001b[0m \u001b[1;33m=\u001b[0m \u001b[0mimage_data\u001b[0m\u001b[1;33m.\u001b[0m\u001b[0mmax\u001b[0m\u001b[1;33m(\u001b[0m\u001b[0maxis\u001b[0m\u001b[1;33m=\u001b[0m\u001b[1;36m2\u001b[0m\u001b[1;33m)\u001b[0m\u001b[1;33m\u001b[0m\u001b[0m\n\u001b[0m\u001b[0;32m      3\u001b[0m \u001b[0mnon_empty_columns\u001b[0m \u001b[1;33m=\u001b[0m \u001b[0mnp\u001b[0m\u001b[1;33m.\u001b[0m\u001b[0mwhere\u001b[0m\u001b[1;33m(\u001b[0m\u001b[0mimage_data_bw\u001b[0m\u001b[1;33m.\u001b[0m\u001b[0mmax\u001b[0m\u001b[1;33m(\u001b[0m\u001b[0maxis\u001b[0m\u001b[1;33m=\u001b[0m\u001b[1;36m0\u001b[0m\u001b[1;33m)\u001b[0m\u001b[1;33m>\u001b[0m\u001b[1;36m0\u001b[0m\u001b[1;33m)\u001b[0m\u001b[1;33m[\u001b[0m\u001b[1;36m0\u001b[0m\u001b[1;33m]\u001b[0m\u001b[1;33m\u001b[0m\u001b[0m\n\u001b[0;32m      4\u001b[0m \u001b[0mnon_empty_rows\u001b[0m \u001b[1;33m=\u001b[0m \u001b[0mnp\u001b[0m\u001b[1;33m.\u001b[0m\u001b[0mwhere\u001b[0m\u001b[1;33m(\u001b[0m\u001b[0mimage_data_bw\u001b[0m\u001b[1;33m.\u001b[0m\u001b[0mmax\u001b[0m\u001b[1;33m(\u001b[0m\u001b[0maxis\u001b[0m\u001b[1;33m=\u001b[0m\u001b[1;36m1\u001b[0m\u001b[1;33m)\u001b[0m\u001b[1;33m>\u001b[0m\u001b[1;36m0\u001b[0m\u001b[1;33m)\u001b[0m\u001b[1;33m[\u001b[0m\u001b[1;36m0\u001b[0m\u001b[1;33m]\u001b[0m\u001b[1;33m\u001b[0m\u001b[0m\n\u001b[0;32m      5\u001b[0m \u001b[0mcropBox\u001b[0m \u001b[1;33m=\u001b[0m \u001b[1;33m(\u001b[0m\u001b[0mmin\u001b[0m\u001b[1;33m(\u001b[0m\u001b[0mnon_empty_rows\u001b[0m\u001b[1;33m)\u001b[0m\u001b[1;33m,\u001b[0m \u001b[0mmax\u001b[0m\u001b[1;33m(\u001b[0m\u001b[0mnon_empty_rows\u001b[0m\u001b[1;33m)\u001b[0m\u001b[1;33m,\u001b[0m \u001b[0mmin\u001b[0m\u001b[1;33m(\u001b[0m\u001b[0mnon_empty_columns\u001b[0m\u001b[1;33m)\u001b[0m\u001b[1;33m,\u001b[0m \u001b[0mmax\u001b[0m\u001b[1;33m(\u001b[0m\u001b[0mnon_empty_columns\u001b[0m\u001b[1;33m)\u001b[0m\u001b[1;33m)\u001b[0m\u001b[1;33m\u001b[0m\u001b[0m\n",
      "\u001b[1;32mc:\\users\\y2ee2\\anaconda3\\envs\\devenv\\lib\\site-packages\\numpy\\core\\_methods.py\u001b[0m in \u001b[0;36m_amax\u001b[1;34m(a, axis, out, keepdims, initial)\u001b[0m\n\u001b[0;32m     26\u001b[0m def _amax(a, axis=None, out=None, keepdims=False,\n\u001b[0;32m     27\u001b[0m           initial=_NoValue):\n\u001b[1;32m---> 28\u001b[1;33m     \u001b[1;32mreturn\u001b[0m \u001b[0mumr_maximum\u001b[0m\u001b[1;33m(\u001b[0m\u001b[0ma\u001b[0m\u001b[1;33m,\u001b[0m \u001b[0maxis\u001b[0m\u001b[1;33m,\u001b[0m \u001b[1;32mNone\u001b[0m\u001b[1;33m,\u001b[0m \u001b[0mout\u001b[0m\u001b[1;33m,\u001b[0m \u001b[0mkeepdims\u001b[0m\u001b[1;33m,\u001b[0m \u001b[0minitial\u001b[0m\u001b[1;33m)\u001b[0m\u001b[1;33m\u001b[0m\u001b[0m\n\u001b[0m\u001b[0;32m     29\u001b[0m \u001b[1;33m\u001b[0m\u001b[0m\n\u001b[0;32m     30\u001b[0m def _amin(a, axis=None, out=None, keepdims=False,\n",
      "\u001b[1;31mAxisError\u001b[0m: axis 2 is out of bounds for array of dimension 2"
     ]
    }
   ],
   "source": [
    "image_data = np.asarray(test_image)\n",
    "image_data_bw = image_data.max(axis=2)\n",
    "non_empty_columns = np.where(image_data_bw.max(axis=0)>0)[0]\n",
    "non_empty_rows = np.where(image_data_bw.max(axis=1)>0)[0]\n",
    "cropBox = (min(non_empty_rows), max(non_empty_rows), min(non_empty_columns), max(non_empty_columns))\n",
    "\n",
    "image_data_new = image_data[cropBox[0]:cropBox[1]+1, cropBox[2]:cropBox[3]+1 , :]\n",
    "\n",
    "new_image = Image.fromarray(image_data_new)"
   ]
  },
  {
   "cell_type": "code",
   "execution_count": 120,
   "metadata": {},
   "outputs": [
    {
     "ename": "TypeError",
     "evalue": "Image data of dtype object cannot be converted to float",
     "output_type": "error",
     "traceback": [
      "\u001b[1;31m---------------------------------------------------------------------------\u001b[0m",
      "\u001b[1;31mTypeError\u001b[0m                                 Traceback (most recent call last)",
      "\u001b[1;32m<ipython-input-120-8c5887a7dd41>\u001b[0m in \u001b[0;36m<module>\u001b[1;34m\u001b[0m\n\u001b[0;32m      1\u001b[0m \u001b[0mtrim_im\u001b[0m \u001b[1;33m=\u001b[0m \u001b[0msave_image_trimmed\u001b[0m\u001b[1;33m(\u001b[0m\u001b[0mtraining_data\u001b[0m\u001b[1;33m.\u001b[0m\u001b[0miloc\u001b[0m\u001b[1;33m[\u001b[0m\u001b[0mi\u001b[0m\u001b[1;33m]\u001b[0m\u001b[1;33m.\u001b[0m\u001b[0mvalues\u001b[0m\u001b[1;33m)\u001b[0m\u001b[1;33m\u001b[0m\u001b[0m\n\u001b[1;32m----> 2\u001b[1;33m \u001b[0mplt\u001b[0m\u001b[1;33m.\u001b[0m\u001b[0mimshow\u001b[0m\u001b[1;33m(\u001b[0m\u001b[0mtrim_im\u001b[0m\u001b[1;33m)\u001b[0m\u001b[1;33m\u001b[0m\u001b[0m\n\u001b[0m",
      "\u001b[1;32mc:\\users\\y2ee2\\anaconda3\\envs\\devenv\\lib\\site-packages\\matplotlib\\pyplot.py\u001b[0m in \u001b[0;36mimshow\u001b[1;34m(X, cmap, norm, aspect, interpolation, alpha, vmin, vmax, origin, extent, shape, filternorm, filterrad, imlim, resample, url, data, **kwargs)\u001b[0m\n\u001b[0;32m   2681\u001b[0m         \u001b[0mfilternorm\u001b[0m\u001b[1;33m=\u001b[0m\u001b[0mfilternorm\u001b[0m\u001b[1;33m,\u001b[0m \u001b[0mfilterrad\u001b[0m\u001b[1;33m=\u001b[0m\u001b[0mfilterrad\u001b[0m\u001b[1;33m,\u001b[0m \u001b[0mimlim\u001b[0m\u001b[1;33m=\u001b[0m\u001b[0mimlim\u001b[0m\u001b[1;33m,\u001b[0m\u001b[1;33m\u001b[0m\u001b[0m\n\u001b[0;32m   2682\u001b[0m         resample=resample, url=url, **({\"data\": data} if data is not\n\u001b[1;32m-> 2683\u001b[1;33m         None else {}), **kwargs)\n\u001b[0m\u001b[0;32m   2684\u001b[0m     \u001b[0msci\u001b[0m\u001b[1;33m(\u001b[0m\u001b[0m__ret\u001b[0m\u001b[1;33m)\u001b[0m\u001b[1;33m\u001b[0m\u001b[0m\n\u001b[0;32m   2685\u001b[0m     \u001b[1;32mreturn\u001b[0m \u001b[0m__ret\u001b[0m\u001b[1;33m\u001b[0m\u001b[0m\n",
      "\u001b[1;32mc:\\users\\y2ee2\\anaconda3\\envs\\devenv\\lib\\site-packages\\matplotlib\\__init__.py\u001b[0m in \u001b[0;36minner\u001b[1;34m(ax, data, *args, **kwargs)\u001b[0m\n\u001b[0;32m   1599\u001b[0m     \u001b[1;32mdef\u001b[0m \u001b[0minner\u001b[0m\u001b[1;33m(\u001b[0m\u001b[0max\u001b[0m\u001b[1;33m,\u001b[0m \u001b[1;33m*\u001b[0m\u001b[0margs\u001b[0m\u001b[1;33m,\u001b[0m \u001b[0mdata\u001b[0m\u001b[1;33m=\u001b[0m\u001b[1;32mNone\u001b[0m\u001b[1;33m,\u001b[0m \u001b[1;33m**\u001b[0m\u001b[0mkwargs\u001b[0m\u001b[1;33m)\u001b[0m\u001b[1;33m:\u001b[0m\u001b[1;33m\u001b[0m\u001b[0m\n\u001b[0;32m   1600\u001b[0m         \u001b[1;32mif\u001b[0m \u001b[0mdata\u001b[0m \u001b[1;32mis\u001b[0m \u001b[1;32mNone\u001b[0m\u001b[1;33m:\u001b[0m\u001b[1;33m\u001b[0m\u001b[0m\n\u001b[1;32m-> 1601\u001b[1;33m             \u001b[1;32mreturn\u001b[0m \u001b[0mfunc\u001b[0m\u001b[1;33m(\u001b[0m\u001b[0max\u001b[0m\u001b[1;33m,\u001b[0m \u001b[1;33m*\u001b[0m\u001b[0mmap\u001b[0m\u001b[1;33m(\u001b[0m\u001b[0msanitize_sequence\u001b[0m\u001b[1;33m,\u001b[0m \u001b[0margs\u001b[0m\u001b[1;33m)\u001b[0m\u001b[1;33m,\u001b[0m \u001b[1;33m**\u001b[0m\u001b[0mkwargs\u001b[0m\u001b[1;33m)\u001b[0m\u001b[1;33m\u001b[0m\u001b[0m\n\u001b[0m\u001b[0;32m   1602\u001b[0m \u001b[1;33m\u001b[0m\u001b[0m\n\u001b[0;32m   1603\u001b[0m         \u001b[0mbound\u001b[0m \u001b[1;33m=\u001b[0m \u001b[0mnew_sig\u001b[0m\u001b[1;33m.\u001b[0m\u001b[0mbind\u001b[0m\u001b[1;33m(\u001b[0m\u001b[0max\u001b[0m\u001b[1;33m,\u001b[0m \u001b[1;33m*\u001b[0m\u001b[0margs\u001b[0m\u001b[1;33m,\u001b[0m \u001b[1;33m**\u001b[0m\u001b[0mkwargs\u001b[0m\u001b[1;33m)\u001b[0m\u001b[1;33m\u001b[0m\u001b[0m\n",
      "\u001b[1;32mc:\\users\\y2ee2\\anaconda3\\envs\\devenv\\lib\\site-packages\\matplotlib\\cbook\\deprecation.py\u001b[0m in \u001b[0;36mwrapper\u001b[1;34m(*args, **kwargs)\u001b[0m\n\u001b[0;32m    367\u001b[0m                 \u001b[1;34mf\"%(removal)s.  If any parameter follows {name!r}, they \"\u001b[0m\u001b[1;33m\u001b[0m\u001b[0m\n\u001b[0;32m    368\u001b[0m                 f\"should be pass as keyword, not positionally.\")\n\u001b[1;32m--> 369\u001b[1;33m         \u001b[1;32mreturn\u001b[0m \u001b[0mfunc\u001b[0m\u001b[1;33m(\u001b[0m\u001b[1;33m*\u001b[0m\u001b[0margs\u001b[0m\u001b[1;33m,\u001b[0m \u001b[1;33m**\u001b[0m\u001b[0mkwargs\u001b[0m\u001b[1;33m)\u001b[0m\u001b[1;33m\u001b[0m\u001b[0m\n\u001b[0m\u001b[0;32m    370\u001b[0m \u001b[1;33m\u001b[0m\u001b[0m\n\u001b[0;32m    371\u001b[0m     \u001b[1;32mreturn\u001b[0m \u001b[0mwrapper\u001b[0m\u001b[1;33m\u001b[0m\u001b[0m\n",
      "\u001b[1;32mc:\\users\\y2ee2\\anaconda3\\envs\\devenv\\lib\\site-packages\\matplotlib\\cbook\\deprecation.py\u001b[0m in \u001b[0;36mwrapper\u001b[1;34m(*args, **kwargs)\u001b[0m\n\u001b[0;32m    367\u001b[0m                 \u001b[1;34mf\"%(removal)s.  If any parameter follows {name!r}, they \"\u001b[0m\u001b[1;33m\u001b[0m\u001b[0m\n\u001b[0;32m    368\u001b[0m                 f\"should be pass as keyword, not positionally.\")\n\u001b[1;32m--> 369\u001b[1;33m         \u001b[1;32mreturn\u001b[0m \u001b[0mfunc\u001b[0m\u001b[1;33m(\u001b[0m\u001b[1;33m*\u001b[0m\u001b[0margs\u001b[0m\u001b[1;33m,\u001b[0m \u001b[1;33m**\u001b[0m\u001b[0mkwargs\u001b[0m\u001b[1;33m)\u001b[0m\u001b[1;33m\u001b[0m\u001b[0m\n\u001b[0m\u001b[0;32m    370\u001b[0m \u001b[1;33m\u001b[0m\u001b[0m\n\u001b[0;32m    371\u001b[0m     \u001b[1;32mreturn\u001b[0m \u001b[0mwrapper\u001b[0m\u001b[1;33m\u001b[0m\u001b[0m\n",
      "\u001b[1;32mc:\\users\\y2ee2\\anaconda3\\envs\\devenv\\lib\\site-packages\\matplotlib\\axes\\_axes.py\u001b[0m in \u001b[0;36mimshow\u001b[1;34m(self, X, cmap, norm, aspect, interpolation, alpha, vmin, vmax, origin, extent, shape, filternorm, filterrad, imlim, resample, url, **kwargs)\u001b[0m\n\u001b[0;32m   5669\u001b[0m                               resample=resample, **kwargs)\n\u001b[0;32m   5670\u001b[0m \u001b[1;33m\u001b[0m\u001b[0m\n\u001b[1;32m-> 5671\u001b[1;33m         \u001b[0mim\u001b[0m\u001b[1;33m.\u001b[0m\u001b[0mset_data\u001b[0m\u001b[1;33m(\u001b[0m\u001b[0mX\u001b[0m\u001b[1;33m)\u001b[0m\u001b[1;33m\u001b[0m\u001b[0m\n\u001b[0m\u001b[0;32m   5672\u001b[0m         \u001b[0mim\u001b[0m\u001b[1;33m.\u001b[0m\u001b[0mset_alpha\u001b[0m\u001b[1;33m(\u001b[0m\u001b[0malpha\u001b[0m\u001b[1;33m)\u001b[0m\u001b[1;33m\u001b[0m\u001b[0m\n\u001b[0;32m   5673\u001b[0m         \u001b[1;32mif\u001b[0m \u001b[0mim\u001b[0m\u001b[1;33m.\u001b[0m\u001b[0mget_clip_path\u001b[0m\u001b[1;33m(\u001b[0m\u001b[1;33m)\u001b[0m \u001b[1;32mis\u001b[0m \u001b[1;32mNone\u001b[0m\u001b[1;33m:\u001b[0m\u001b[1;33m\u001b[0m\u001b[0m\n",
      "\u001b[1;32mc:\\users\\y2ee2\\anaconda3\\envs\\devenv\\lib\\site-packages\\matplotlib\\image.py\u001b[0m in \u001b[0;36mset_data\u001b[1;34m(self, A)\u001b[0m\n\u001b[0;32m    683\u001b[0m                 not np.can_cast(self._A.dtype, float, \"same_kind\")):\n\u001b[0;32m    684\u001b[0m             raise TypeError(\"Image data of dtype {} cannot be converted to \"\n\u001b[1;32m--> 685\u001b[1;33m                             \"float\".format(self._A.dtype))\n\u001b[0m\u001b[0;32m    686\u001b[0m \u001b[1;33m\u001b[0m\u001b[0m\n\u001b[0;32m    687\u001b[0m         if not (self._A.ndim == 2\n",
      "\u001b[1;31mTypeError\u001b[0m: Image data of dtype object cannot be converted to float"
     ]
    },
    {
     "data": {
      "image/png": "[encoded data removed]",
      "text/plain": [
       "<Figure size 432x288 with 1 Axes>"
      ]
     },
     "metadata": {
      "needs_background": "light"
     },
     "output_type": "display_data"
    }
   ],
   "source": [
    "trim_im = save_image_trimmed(training_data.iloc[i].values)\n",
    "plt.imshow(trim_im)"
   ]
  },
  {
   "cell_type": "code",
   "execution_count": 96,
   "metadata": {},
   "outputs": [
    {
     "data": {
      "text/plain": [
       "<matplotlib.image.AxesImage at 0x236d0c00128>"
      ]
     },
     "execution_count": 96,
     "metadata": {},
     "output_type": "execute_result"
    },
    {
     "data": {
      "image/png": "[encoded data removed]",
      "text/plain": [
       "<Figure size 432x288 with 1 Axes>"
      ]
     },
     "metadata": {
      "needs_background": "light"
     },
     "output_type": "display_data"
    }
   ],
   "source": [
    "test_image = training_data.iloc[i].values[1:]\n",
    "test_image = np.reshape(test_image, (137, 236))\n",
    "test_image = 255 - test_image\n",
    "test_image = Image.fromarray(test_image.astype(np.uint8))\n",
    "plt.imshow(test_image)"
   ]
  },
  {
   "cell_type": "code",
   "execution_count": 99,
   "metadata": {},
   "outputs": [
    {
     "data": {
      "text/plain": [
       "<matplotlib.image.AxesImage at 0x236d0cff0b8>"
      ]
     },
     "execution_count": 99,
     "metadata": {},
     "output_type": "execute_result"
    },
    {
     "data": {
      "image/png": "[encoded data removed]",
      "text/plain": [
       "<Figure size 432x288 with 1 Axes>"
      ]
     },
     "metadata": {
      "needs_background": "light"
     },
     "output_type": "display_data"
    }
   ],
   "source": [
    "test_image = training_data.iloc[i].values[1:]\n",
    "test_image = np.reshape(test_image, (137, 236))\n",
    "test_image = 255 - test_image\n",
    "test_image = np.where(test_image<20,0,test_image)\n",
    "test_image = Image.fromarray(test_image.astype(np.uint8))\n",
    "plt.imshow(test_image)"
   ]
  },
  {
   "cell_type": "code",
   "execution_count": 141,
   "metadata": {},
   "outputs": [],
   "source": [
    "def crop(row):\n",
    "    pil_image = Image.fromarray(np.reshape(row[1:], (137, 236)).astype(np.int)).convert('RGB')\n",
    "    np_array = np.array(pil_image)\n",
    "    blank_px = [255, 255, 255, 0]\n",
    "    mask = np_array != blank_px\n",
    "    coords = np.argwhere(mask)\n",
    "    x0, y0, z0 = coords.min(axis=0)\n",
    "    x1, y1, z1 = coords.max(axis=0) + 1\n",
    "    cropped_box = np_array[x0:x1, y0:y1, z0:z1]\n",
    "    return Image.fromarray(cropped_box, 'RGBA')"
   ]
  },
  {
   "cell_type": "code",
   "execution_count": 142,
   "metadata": {},
   "outputs": [
    {
     "name": "stderr",
     "output_type": "stream",
     "text": [
      "c:\\users\\y2ee2\\anaconda3\\envs\\devenv\\lib\\site-packages\\ipykernel_launcher.py:5: DeprecationWarning: elementwise != comparison failed; this will raise an error in the future.\n",
      "  \"\"\"\n"
     ]
    },
    {
     "ename": "ValueError",
     "evalue": "not enough values to unpack (expected 3, got 1)",
     "output_type": "error",
     "traceback": [
      "\u001b[1;31m---------------------------------------------------------------------------\u001b[0m",
      "\u001b[1;31mValueError\u001b[0m                                Traceback (most recent call last)",
      "\u001b[1;32m<ipython-input-142-2ab82eeae000>\u001b[0m in \u001b[0;36m<module>\u001b[1;34m\u001b[0m\n\u001b[1;32m----> 1\u001b[1;33m \u001b[0mcrop_im\u001b[0m \u001b[1;33m=\u001b[0m \u001b[0mcrop\u001b[0m\u001b[1;33m(\u001b[0m\u001b[0mtraining_data\u001b[0m\u001b[1;33m.\u001b[0m\u001b[0miloc\u001b[0m\u001b[1;33m[\u001b[0m\u001b[0mi\u001b[0m\u001b[1;33m]\u001b[0m\u001b[1;33m.\u001b[0m\u001b[0mvalues\u001b[0m\u001b[1;33m)\u001b[0m\u001b[1;33m\u001b[0m\u001b[0m\n\u001b[0m",
      "\u001b[1;32m<ipython-input-141-92443caa7622>\u001b[0m in \u001b[0;36mcrop\u001b[1;34m(row)\u001b[0m\n\u001b[0;32m      5\u001b[0m     \u001b[0mmask\u001b[0m \u001b[1;33m=\u001b[0m \u001b[0mnp_array\u001b[0m \u001b[1;33m!=\u001b[0m \u001b[0mblank_px\u001b[0m\u001b[1;33m\u001b[0m\u001b[0m\n\u001b[0;32m      6\u001b[0m     \u001b[0mcoords\u001b[0m \u001b[1;33m=\u001b[0m \u001b[0mnp\u001b[0m\u001b[1;33m.\u001b[0m\u001b[0margwhere\u001b[0m\u001b[1;33m(\u001b[0m\u001b[0mmask\u001b[0m\u001b[1;33m)\u001b[0m\u001b[1;33m\u001b[0m\u001b[0m\n\u001b[1;32m----> 7\u001b[1;33m     \u001b[0mx0\u001b[0m\u001b[1;33m,\u001b[0m \u001b[0my0\u001b[0m\u001b[1;33m,\u001b[0m \u001b[0mz0\u001b[0m \u001b[1;33m=\u001b[0m \u001b[0mcoords\u001b[0m\u001b[1;33m.\u001b[0m\u001b[0mmin\u001b[0m\u001b[1;33m(\u001b[0m\u001b[0maxis\u001b[0m\u001b[1;33m=\u001b[0m\u001b[1;36m0\u001b[0m\u001b[1;33m)\u001b[0m\u001b[1;33m\u001b[0m\u001b[0m\n\u001b[0m\u001b[0;32m      8\u001b[0m     \u001b[0mx1\u001b[0m\u001b[1;33m,\u001b[0m \u001b[0my1\u001b[0m\u001b[1;33m,\u001b[0m \u001b[0mz1\u001b[0m \u001b[1;33m=\u001b[0m \u001b[0mcoords\u001b[0m\u001b[1;33m.\u001b[0m\u001b[0mmax\u001b[0m\u001b[1;33m(\u001b[0m\u001b[0maxis\u001b[0m\u001b[1;33m=\u001b[0m\u001b[1;36m0\u001b[0m\u001b[1;33m)\u001b[0m \u001b[1;33m+\u001b[0m \u001b[1;36m1\u001b[0m\u001b[1;33m\u001b[0m\u001b[0m\n\u001b[0;32m      9\u001b[0m     \u001b[0mcropped_box\u001b[0m \u001b[1;33m=\u001b[0m \u001b[0mnp_array\u001b[0m\u001b[1;33m[\u001b[0m\u001b[0mx0\u001b[0m\u001b[1;33m:\u001b[0m\u001b[0mx1\u001b[0m\u001b[1;33m,\u001b[0m \u001b[0my0\u001b[0m\u001b[1;33m:\u001b[0m\u001b[0my1\u001b[0m\u001b[1;33m,\u001b[0m \u001b[0mz0\u001b[0m\u001b[1;33m:\u001b[0m\u001b[0mz1\u001b[0m\u001b[1;33m]\u001b[0m\u001b[1;33m\u001b[0m\u001b[0m\n",
      "\u001b[1;31mValueError\u001b[0m: not enough values to unpack (expected 3, got 1)"
     ]
    }
   ],
   "source": [
    "crop_im = crop(training_data.iloc[i].values)"
   ]
  },
  {
   "cell_type": "code",
   "execution_count": null,
   "metadata": {},
   "outputs": [],
   "source": []
  }
 ],
 "metadata": {
  "kernelspec": {
   "display_name": "Python 3",
   "language": "python",
   "name": "python3"
  },
  "language_info": {
   "codemirror_mode": {
    "name": "ipython",
    "version": 3
   },
   "file_extension": ".py",
   "mimetype": "text/x-python",
   "name": "python",
   "nbconvert_exporter": "python",
   "pygments_lexer": "ipython3",
   "version": "3.6.5"
  }
 },
 "nbformat": 4,
 "nbformat_minor": 2
}
