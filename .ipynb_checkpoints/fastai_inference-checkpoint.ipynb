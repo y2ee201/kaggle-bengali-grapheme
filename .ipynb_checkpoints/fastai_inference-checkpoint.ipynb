{
 "cells": [
  {
   "cell_type": "code",
   "execution_count": 1,
   "metadata": {},
   "outputs": [],
   "source": [
    "import pandas as pd"
   ]
  },
  {
   "cell_type": "code",
   "execution_count": 20,
   "metadata": {},
   "outputs": [],
   "source": [
    "import numpy as np\n",
    "import time\n",
    "import gc\n",
    "from PIL import Image\n",
    "import os\n",
    "# import cv2\n",
    "# import PIL.Image as pilimage\n",
    "from tqdm import tqdm\n",
    "import time"
   ]
  },
  {
   "cell_type": "code",
   "execution_count": 3,
   "metadata": {},
   "outputs": [
    {
     "name": "stdout",
     "output_type": "stream",
     "text": [
      "<class 'pandas.core.frame.DataFrame'>\n",
      "RangeIndex: 12 entries, 0 to 11\n",
      "Columns: 32333 entries, image_id to 32331\n",
      "dtypes: object(1), uint8(32332)\n",
      "memory usage: 379.1+ KB\n",
      "Wall time: 2min 54s\n"
     ]
    }
   ],
   "source": [
    "%%time\n",
    "test_data = pd.read_parquet('./test_image_data_0.parquet')\n",
    "test_data = pd.concat([test_data, \n",
    "                           pd.read_parquet('./test_image_data_1.parquet')], ignore_index=True)\n",
    "test_data = pd.concat([test_data, \n",
    "                           pd.read_parquet('./test_image_data_2.parquet')], ignore_index=True)\n",
    "test_data = pd.concat([test_data, \n",
    "                           pd.read_parquet('./test_image_data_3.parquet')], ignore_index=True)\n",
    "gc.collect()\n",
    "test_data.info()"
   ]
  },
  {
   "cell_type": "code",
   "execution_count": 4,
   "metadata": {},
   "outputs": [
    {
     "name": "stdout",
     "output_type": "stream",
     "text": [
      "Wall time: 0 ns\n"
     ]
    }
   ],
   "source": [
    "%%time\n",
    "size = 128\n",
    "def save_image(row):\n",
    "    test_image = np.reshape(row[1:], (137, 236))\n",
    "    test_image = test_image.astype(np.int)\n",
    "    test_image = Image.fromarray(test_image).convert('RGB')\n",
    "    test_image = test_image.resize((size, size))\n",
    "    test_image.save('./test_images/' + row[0] + '.jpg')"
   ]
  },
  {
   "cell_type": "code",
   "execution_count": 5,
   "metadata": {},
   "outputs": [
    {
     "data": {
      "text/plain": [
       "'for i in tqdm(range(test_data.shape[0])):\\n    row = test_data.iloc[i].values\\n    save_image(row)'"
      ]
     },
     "execution_count": 5,
     "metadata": {},
     "output_type": "execute_result"
    }
   ],
   "source": [
    "'''for i in tqdm(range(test_data.shape[0])):\n",
    "    row = test_data.iloc[i].values\n",
    "    save_image(row)'''"
   ]
  },
  {
   "cell_type": "code",
   "execution_count": 6,
   "metadata": {},
   "outputs": [],
   "source": [
    "from fastai import *\n",
    "from fastai.vision import *\n",
    "learn = load_learner('./','fastai_resnet')"
   ]
  },
  {
   "cell_type": "code",
   "execution_count": 23,
   "metadata": {},
   "outputs": [],
   "source": [
    "def get_predictions(row):\n",
    "    from PIL import Image\n",
    "    test_image = np.reshape(row[1:], (137, 236))\n",
    "    test_image = test_image.astype(np.int)\n",
    "    test_image = Image.fromarray(test_image).convert('RGB')\n",
    "    test_image = test_image.resize((size, size))\n",
    "    test_image.save('./test_images/' + row[0] + '.jpg')\n",
    "    from fastai.vision import open_image\n",
    "    pred = learn.predict(open_image('./test_images/' + row[0] + '.jpg'))[2]\n",
    "    # os.remove('./test_images/' + row[0] + '.jpg')\n",
    "    return (row[0], \n",
    "            int(np.argmax(pred[0:168])), \n",
    "            int(np.argmax(pred[168:179])), \n",
    "            int(np.argmax(pred[179:186]))\n",
    "           )"
   ]
  },
  {
   "cell_type": "code",
   "execution_count": 39,
   "metadata": {},
   "outputs": [
    {
     "name": "stderr",
     "output_type": "stream",
     "text": [
      "100%|██████████████████████████████████████████████████████████████████████████████████| 12/12 [00:00<00:00, 13.01it/s]\n"
     ]
    },
    {
     "name": "stdout",
     "output_type": "stream",
     "text": [
      "Wall time: 927 ms\n"
     ]
    }
   ],
   "source": [
    "%%time\n",
    "predictions = []\n",
    "for i in tqdm(range(test_data.shape[0])):\n",
    "    row = test_data.iloc[i].values\n",
    "    predictions.append(get_predictions(row))"
   ]
  },
  {
   "cell_type": "code",
   "execution_count": 40,
   "metadata": {},
   "outputs": [],
   "source": [
    "def get_predictions_async(row):\n",
    "    from PIL import Image\n",
    "    test_image = np.reshape(row[1:], (137, 236))\n",
    "    test_image = test_image.astype(np.int)\n",
    "    test_image = Image.fromarray(test_image).convert('RGB')\n",
    "    test_image = test_image.resize((size, size))\n",
    "    test_image.save('./test_images/' + row[0] + '.jpg')\n",
    "    from fastai.vision import open_image\n",
    "    pred = learn.predict(open_image('./test_images/' + row[0] + '.jpg'))[2]\n",
    "    # os.remove('./test_images/' + row[0] + '.jpg')\n",
    "    predictions.append((row[0], \n",
    "            int(np.argmax(pred[0:168])), \n",
    "            int(np.argmax(pred[168:179])), \n",
    "            int(np.argmax(pred[179:186])))\n",
    "           )"
   ]
  },
  {
   "cell_type": "code",
   "execution_count": 41,
   "metadata": {},
   "outputs": [
    {
     "name": "stdout",
     "output_type": "stream",
     "text": [
      "Wall time: 278 ms\n"
     ]
    }
   ],
   "source": [
    "%%time\n",
    "import concurrent.futures\n",
    "\n",
    "predictions = []\n",
    "with concurrent.futures.ThreadPoolExecutor(max_workers=5) as executor:\n",
    "    future_to_row = {executor.submit(get_predictions_async, row): row \n",
    "                     for row in test_data.values}\n",
    "    for future in concurrent.futures.as_completed(future_to_row):\n",
    "        result = future_to_row[future]\n",
    "        '''try:\n",
    "            data = future.result()\n",
    "        except Exception as exc:\n",
    "            print('%r generated an exception: %s' % (result, exc))\n",
    "        else:\n",
    "            print('%r page is %d bytes' % (result, data))'''\n"
   ]
  },
  {
   "cell_type": "code",
   "execution_count": 36,
   "metadata": {},
   "outputs": [
    {
     "data": {
      "text/plain": [
       "[('Test_2', 115, 0, 0),\n",
       " ('Test_1', 93, 2, 0),\n",
       " ('Test_0', 3, 1, 0),\n",
       " ('Test_3', 115, 0, 0),\n",
       " ('Test_4', 79, 4, 0),\n",
       " ('Test_5', 115, 2, 0),\n",
       " ('Test_6', 56, 9, 5),\n",
       " ('Test_7', 137, 7, 0),\n",
       " ('Test_8', 119, 9, 0),\n",
       " ('Test_9', 133, 10, 0),\n",
       " ('Test_10', 148, 1, 4),\n",
       " ('Test_11', 21, 2, 0)]"
      ]
     },
     "execution_count": 36,
     "metadata": {},
     "output_type": "execute_result"
    }
   ],
   "source": [
    "predictions"
   ]
  },
  {
   "cell_type": "code",
   "execution_count": 25,
   "metadata": {},
   "outputs": [
    {
     "data": {
      "text/plain": [
       "'predictions = []\\nfor i in tqdm(range(test_data.shape[0])):\\n    row = test_data.iloc[i].values\\n    pred = learn.predict_array(get_image_array(row))[2]\\n    predictions.append((row[0],\\n                        int(np.argmax(pred[0:168])), \\n                        int(np.argmax(pred[168:179])), \\n                        int(np.argmax(pred[179:186]))\\n                       ))'"
      ]
     },
     "execution_count": 25,
     "metadata": {},
     "output_type": "execute_result"
    }
   ],
   "source": [
    "# predictions = pd.DataFrame()\n",
    "'''predictions = []\n",
    "for i in tqdm(range(test_data.shape[0])):\n",
    "    row = test_data.iloc[i].values\n",
    "    pred = learn.predict_array(get_image_array(row))[2]\n",
    "    predictions.append((row[0],\n",
    "                        int(np.argmax(pred[0:168])), \n",
    "                        int(np.argmax(pred[168:179])), \n",
    "                        int(np.argmax(pred[179:186]))\n",
    "                       ))'''"
   ]
  },
  {
   "cell_type": "code",
   "execution_count": 37,
   "metadata": {},
   "outputs": [
    {
     "name": "stdout",
     "output_type": "stream",
     "text": [
      "<class 'pandas.core.frame.DataFrame'>\n",
      "Int64Index: 36 entries, 2 to 9\n",
      "Data columns (total 2 columns):\n",
      "row_id    36 non-null object\n",
      "target    36 non-null int64\n",
      "dtypes: int64(1), object(1)\n",
      "memory usage: 864.0+ bytes\n"
     ]
    }
   ],
   "source": [
    "submission = pd.DataFrame(predictions, columns = ['row_id',\n",
    "                                                  '_grapheme_root',\n",
    "                                                  '_vowel_diacritic', \n",
    "                                                  '_consonant_diacritic'])\n",
    "submission = submission.melt(id_vars=['row_id']).sort_values(['row_id'])\n",
    "submission['row_id'] = submission['row_id']+submission['variable']\n",
    "submission = submission[['row_id','value']]\n",
    "submission.columns = ['row_id','target']\n",
    "submission.info()"
   ]
  },
  {
   "cell_type": "code",
   "execution_count": 38,
   "metadata": {},
   "outputs": [
    {
     "data": {
      "text/html": [
       "<div>\n",
       "<style scoped>\n",
       "    .dataframe tbody tr th:only-of-type {\n",
       "        vertical-align: middle;\n",
       "    }\n",
       "\n",
       "    .dataframe tbody tr th {\n",
       "        vertical-align: top;\n",
       "    }\n",
       "\n",
       "    .dataframe thead th {\n",
       "        text-align: right;\n",
       "    }\n",
       "</style>\n",
       "<table border=\"1\" class=\"dataframe\">\n",
       "  <thead>\n",
       "    <tr style=\"text-align: right;\">\n",
       "      <th></th>\n",
       "      <th>row_id</th>\n",
       "      <th>target</th>\n",
       "    </tr>\n",
       "  </thead>\n",
       "  <tbody>\n",
       "    <tr>\n",
       "      <td>2</td>\n",
       "      <td>Test_0_grapheme_root</td>\n",
       "      <td>3</td>\n",
       "    </tr>\n",
       "    <tr>\n",
       "      <td>26</td>\n",
       "      <td>Test_0_consonant_diacritic</td>\n",
       "      <td>0</td>\n",
       "    </tr>\n",
       "    <tr>\n",
       "      <td>14</td>\n",
       "      <td>Test_0_vowel_diacritic</td>\n",
       "      <td>1</td>\n",
       "    </tr>\n",
       "    <tr>\n",
       "      <td>1</td>\n",
       "      <td>Test_1_grapheme_root</td>\n",
       "      <td>93</td>\n",
       "    </tr>\n",
       "    <tr>\n",
       "      <td>25</td>\n",
       "      <td>Test_1_consonant_diacritic</td>\n",
       "      <td>0</td>\n",
       "    </tr>\n",
       "  </tbody>\n",
       "</table>\n",
       "</div>"
      ],
      "text/plain": [
       "                        row_id  target\n",
       "2         Test_0_grapheme_root       3\n",
       "26  Test_0_consonant_diacritic       0\n",
       "14      Test_0_vowel_diacritic       1\n",
       "1         Test_1_grapheme_root      93\n",
       "25  Test_1_consonant_diacritic       0"
      ]
     },
     "execution_count": 38,
     "metadata": {},
     "output_type": "execute_result"
    }
   ],
   "source": [
    "submission.head()"
   ]
  },
  {
   "cell_type": "code",
   "execution_count": null,
   "metadata": {},
   "outputs": [],
   "source": []
  },
  {
   "cell_type": "code",
   "execution_count": null,
   "metadata": {},
   "outputs": [],
   "source": []
  }
 ],
 "metadata": {
  "kernelspec": {
   "display_name": "Python 3",
   "language": "python",
   "name": "python3"
  },
  "language_info": {
   "codemirror_mode": {
    "name": "ipython",
    "version": 3
   },
   "file_extension": ".py",
   "mimetype": "text/x-python",
   "name": "python",
   "nbconvert_exporter": "python",
   "pygments_lexer": "ipython3",
   "version": "3.6.5"
  }
 },
 "nbformat": 4,
 "nbformat_minor": 2
}
